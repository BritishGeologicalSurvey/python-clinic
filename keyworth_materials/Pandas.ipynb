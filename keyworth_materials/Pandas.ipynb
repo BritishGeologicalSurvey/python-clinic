{
 "cells": [
  {
   "cell_type": "markdown",
   "metadata": {},
   "source": [
    "# Pandas - a quick introduction"
   ]
  },
  {
   "cell_type": "markdown",
   "metadata": {},
   "source": [
    "To start with, we'll import pandas - if you get an error here, you'll need to install it. If using anaconda, in the prompt type `conda install pandas`."
   ]
  },
  {
   "cell_type": "code",
   "execution_count": 12,
   "metadata": {},
   "outputs": [],
   "source": [
    "import pandas as pd\n"
   ]
  },
  {
   "cell_type": "markdown",
   "metadata": {},
   "source": [
    "## Data input and simple querying"
   ]
  },
  {
   "cell_type": "markdown",
   "metadata": {},
   "source": [
    "Let's open some data to work with..."
   ]
  },
  {
   "cell_type": "code",
   "execution_count": 13,
   "metadata": {},
   "outputs": [
    {
     "data": {
      "text/plain": [
       "pandas.core.frame.DataFrame"
      ]
     },
     "execution_count": 13,
     "metadata": {},
     "output_type": "execute_result"
    }
   ],
   "source": [
    "f=\"test_data.csv\"\n",
    "data=pd.read_csv(f)\n",
    "type(data)"
   ]
  },
  {
   "cell_type": "markdown",
   "metadata": {},
   "source": [
    "Now, we've opend our data, you can see that `data` is a pandas DataFrame object - this means that it has inhereted a number of functions and properties which you can access and maipulate it by...."
   ]
  },
  {
   "cell_type": "markdown",
   "metadata": {},
   "source": [
    "We can quickly query the data... let's start by getting all of the column names and indices:"
   ]
  },
  {
   "cell_type": "code",
   "execution_count": 14,
   "metadata": {},
   "outputs": [
    {
     "name": "stdout",
     "output_type": "stream",
     "text": [
      "RangeIndex(start=0, stop=478, step=1)\n",
      "Index(['ID', 'EASTING', 'NORTHING', 'bedrock_geology__LEX_ROCK',\n",
      "       'mean_SLOPE_50m_buffer', 'mean_ASPECT_50m_buffer',\n",
      "       'mean_PLAN_CURVE_50m_buffer', 'mean_PROFILE_CURVE_50m_buffer'],\n",
      "      dtype='object')\n",
      "[[1 391163.3095 422698.7422 ..., 180.1794967 -0.0075627459999999995\n",
      "  0.021624648]\n",
      " [2 393871.0763 420474.5221 ..., 244.50073509999999 -0.003506054\n",
      "  0.003896202]\n",
      " [3 393051.2768 418804.3483 ..., 97.62719298 -0.004945751 -0.00669702]\n",
      " ..., \n",
      " [476 366990.8629 421974.0554 ..., 196.6968545 -0.005471285\n",
      "  0.021329872000000003]\n",
      " [477 384504.9376 411940.3656 ..., 159.4940789 -0.007010094000000001\n",
      "  -0.00374856]\n",
      " [478 393119.6146 424278.8307 ..., 201.9794087 0.0025153479999999997\n",
      "  0.048215395]]\n"
     ]
    }
   ],
   "source": [
    "index = data.index\n",
    "columns = data.columns\n",
    "values = data.values\n",
    "print(index)\n",
    "print(columns)\n",
    "print(values)"
   ]
  },
  {
   "cell_type": "markdown",
   "metadata": {},
   "source": [
    "To see how many rows and columns are in`data`, use the `shape` property:"
   ]
  },
  {
   "cell_type": "code",
   "execution_count": 15,
   "metadata": {},
   "outputs": [
    {
     "data": {
      "text/plain": [
       "(478, 8)"
      ]
     },
     "execution_count": 15,
     "metadata": {},
     "output_type": "execute_result"
    }
   ],
   "source": [
    "data.shape"
   ]
  },
  {
   "cell_type": "markdown",
   "metadata": {},
   "source": [
    "We can use functions `head` and `tail` to see the top and bottom of our data too:"
   ]
  },
  {
   "cell_type": "code",
   "execution_count": 16,
   "metadata": {},
   "outputs": [
    {
     "data": {
      "text/html": [
       "<div>\n",
       "<style scoped>\n",
       "    .dataframe tbody tr th:only-of-type {\n",
       "        vertical-align: middle;\n",
       "    }\n",
       "\n",
       "    .dataframe tbody tr th {\n",
       "        vertical-align: top;\n",
       "    }\n",
       "\n",
       "    .dataframe thead th {\n",
       "        text-align: right;\n",
       "    }\n",
       "</style>\n",
       "<table border=\"1\" class=\"dataframe\">\n",
       "  <thead>\n",
       "    <tr style=\"text-align: right;\">\n",
       "      <th></th>\n",
       "      <th>ID</th>\n",
       "      <th>EASTING</th>\n",
       "      <th>NORTHING</th>\n",
       "      <th>bedrock_geology__LEX_ROCK</th>\n",
       "      <th>mean_SLOPE_50m_buffer</th>\n",
       "      <th>mean_ASPECT_50m_buffer</th>\n",
       "      <th>mean_PLAN_CURVE_50m_buffer</th>\n",
       "      <th>mean_PROFILE_CURVE_50m_buffer</th>\n",
       "    </tr>\n",
       "  </thead>\n",
       "  <tbody>\n",
       "    <tr>\n",
       "      <th>0</th>\n",
       "      <td>1</td>\n",
       "      <td>391163.3095</td>\n",
       "      <td>422698.7422</td>\n",
       "      <td>FLB-SDST</td>\n",
       "      <td>11.281712</td>\n",
       "      <td>180.179497</td>\n",
       "      <td>-0.007563</td>\n",
       "      <td>0.021625</td>\n",
       "    </tr>\n",
       "    <tr>\n",
       "      <th>1</th>\n",
       "      <td>2</td>\n",
       "      <td>393871.0763</td>\n",
       "      <td>420474.5221</td>\n",
       "      <td>MG-MDSI</td>\n",
       "      <td>10.934832</td>\n",
       "      <td>244.500735</td>\n",
       "      <td>-0.003506</td>\n",
       "      <td>0.003896</td>\n",
       "    </tr>\n",
       "    <tr>\n",
       "      <th>2</th>\n",
       "      <td>3</td>\n",
       "      <td>393051.2768</td>\n",
       "      <td>418804.3483</td>\n",
       "      <td>MG-MDSI</td>\n",
       "      <td>7.565040</td>\n",
       "      <td>97.627193</td>\n",
       "      <td>-0.004946</td>\n",
       "      <td>-0.006697</td>\n",
       "    </tr>\n",
       "    <tr>\n",
       "      <th>3</th>\n",
       "      <td>4</td>\n",
       "      <td>391849.0254</td>\n",
       "      <td>422226.2329</td>\n",
       "      <td>MG-MDSI</td>\n",
       "      <td>12.329064</td>\n",
       "      <td>80.880556</td>\n",
       "      <td>0.020211</td>\n",
       "      <td>0.024860</td>\n",
       "    </tr>\n",
       "    <tr>\n",
       "      <th>4</th>\n",
       "      <td>5</td>\n",
       "      <td>393911.7304</td>\n",
       "      <td>423182.6761</td>\n",
       "      <td>TDG-SDST</td>\n",
       "      <td>8.488237</td>\n",
       "      <td>165.708118</td>\n",
       "      <td>0.009211</td>\n",
       "      <td>-0.013159</td>\n",
       "    </tr>\n",
       "  </tbody>\n",
       "</table>\n",
       "</div>"
      ],
      "text/plain": [
       "   ID      EASTING     NORTHING bedrock_geology__LEX_ROCK  \\\n",
       "0   1  391163.3095  422698.7422                  FLB-SDST   \n",
       "1   2  393871.0763  420474.5221                   MG-MDSI   \n",
       "2   3  393051.2768  418804.3483                   MG-MDSI   \n",
       "3   4  391849.0254  422226.2329                   MG-MDSI   \n",
       "4   5  393911.7304  423182.6761                  TDG-SDST   \n",
       "\n",
       "   mean_SLOPE_50m_buffer  mean_ASPECT_50m_buffer  mean_PLAN_CURVE_50m_buffer  \\\n",
       "0              11.281712              180.179497                   -0.007563   \n",
       "1              10.934832              244.500735                   -0.003506   \n",
       "2               7.565040               97.627193                   -0.004946   \n",
       "3              12.329064               80.880556                    0.020211   \n",
       "4               8.488237              165.708118                    0.009211   \n",
       "\n",
       "   mean_PROFILE_CURVE_50m_buffer  \n",
       "0                       0.021625  \n",
       "1                       0.003896  \n",
       "2                      -0.006697  \n",
       "3                       0.024860  \n",
       "4                      -0.013159  "
      ]
     },
     "execution_count": 16,
     "metadata": {},
     "output_type": "execute_result"
    }
   ],
   "source": [
    "data.head()"
   ]
  },
  {
   "cell_type": "markdown",
   "metadata": {},
   "source": [
    "Some anatomy..."
   ]
  },
  {
   "cell_type": "markdown",
   "metadata": {},
   "source": [
    "!['Dataframe anatomy'](dataframe_anatomy.png)\n",
    "Source: https://medium.com/dunder-data/selecting-subsets-of-data-in-pandas-6fcd0170be9c"
   ]
  },
  {
   "cell_type": "code",
   "execution_count": 17,
   "metadata": {},
   "outputs": [
    {
     "data": {
      "text/html": [
       "<div>\n",
       "<style scoped>\n",
       "    .dataframe tbody tr th:only-of-type {\n",
       "        vertical-align: middle;\n",
       "    }\n",
       "\n",
       "    .dataframe tbody tr th {\n",
       "        vertical-align: top;\n",
       "    }\n",
       "\n",
       "    .dataframe thead th {\n",
       "        text-align: right;\n",
       "    }\n",
       "</style>\n",
       "<table border=\"1\" class=\"dataframe\">\n",
       "  <thead>\n",
       "    <tr style=\"text-align: right;\">\n",
       "      <th></th>\n",
       "      <th>ID</th>\n",
       "      <th>EASTING</th>\n",
       "      <th>NORTHING</th>\n",
       "      <th>bedrock_geology__LEX_ROCK</th>\n",
       "      <th>mean_SLOPE_50m_buffer</th>\n",
       "      <th>mean_ASPECT_50m_buffer</th>\n",
       "      <th>mean_PLAN_CURVE_50m_buffer</th>\n",
       "      <th>mean_PROFILE_CURVE_50m_buffer</th>\n",
       "    </tr>\n",
       "  </thead>\n",
       "  <tbody>\n",
       "    <tr>\n",
       "      <th>473</th>\n",
       "      <td>474</td>\n",
       "      <td>381287.1933</td>\n",
       "      <td>407545.0898</td>\n",
       "      <td>PLCM-MDSS</td>\n",
       "      <td>3.540201</td>\n",
       "      <td>192.613885</td>\n",
       "      <td>0.001586</td>\n",
       "      <td>0.003502</td>\n",
       "    </tr>\n",
       "    <tr>\n",
       "      <th>474</th>\n",
       "      <td>475</td>\n",
       "      <td>386700.3455</td>\n",
       "      <td>429830.9689</td>\n",
       "      <td>PLCM-MDSS</td>\n",
       "      <td>6.068178</td>\n",
       "      <td>266.817609</td>\n",
       "      <td>0.005144</td>\n",
       "      <td>-0.001241</td>\n",
       "    </tr>\n",
       "    <tr>\n",
       "      <th>475</th>\n",
       "      <td>476</td>\n",
       "      <td>366990.8629</td>\n",
       "      <td>421974.0554</td>\n",
       "      <td>LH-SDST</td>\n",
       "      <td>7.684205</td>\n",
       "      <td>196.696855</td>\n",
       "      <td>-0.005471</td>\n",
       "      <td>0.021330</td>\n",
       "    </tr>\n",
       "    <tr>\n",
       "      <th>476</th>\n",
       "      <td>477</td>\n",
       "      <td>384504.9376</td>\n",
       "      <td>411940.3656</td>\n",
       "      <td>PLCM-MDSS</td>\n",
       "      <td>6.471805</td>\n",
       "      <td>159.494079</td>\n",
       "      <td>-0.007010</td>\n",
       "      <td>-0.003749</td>\n",
       "    </tr>\n",
       "    <tr>\n",
       "      <th>477</th>\n",
       "      <td>478</td>\n",
       "      <td>393119.6146</td>\n",
       "      <td>424278.8307</td>\n",
       "      <td>MG-MDSI</td>\n",
       "      <td>9.376118</td>\n",
       "      <td>201.979409</td>\n",
       "      <td>0.002515</td>\n",
       "      <td>0.048215</td>\n",
       "    </tr>\n",
       "  </tbody>\n",
       "</table>\n",
       "</div>"
      ],
      "text/plain": [
       "      ID      EASTING     NORTHING bedrock_geology__LEX_ROCK  \\\n",
       "473  474  381287.1933  407545.0898                 PLCM-MDSS   \n",
       "474  475  386700.3455  429830.9689                 PLCM-MDSS   \n",
       "475  476  366990.8629  421974.0554                   LH-SDST   \n",
       "476  477  384504.9376  411940.3656                 PLCM-MDSS   \n",
       "477  478  393119.6146  424278.8307                   MG-MDSI   \n",
       "\n",
       "     mean_SLOPE_50m_buffer  mean_ASPECT_50m_buffer  \\\n",
       "473               3.540201              192.613885   \n",
       "474               6.068178              266.817609   \n",
       "475               7.684205              196.696855   \n",
       "476               6.471805              159.494079   \n",
       "477               9.376118              201.979409   \n",
       "\n",
       "     mean_PLAN_CURVE_50m_buffer  mean_PROFILE_CURVE_50m_buffer  \n",
       "473                    0.001586                       0.003502  \n",
       "474                    0.005144                      -0.001241  \n",
       "475                   -0.005471                       0.021330  \n",
       "476                   -0.007010                      -0.003749  \n",
       "477                    0.002515                       0.048215  "
      ]
     },
     "execution_count": 17,
     "metadata": {},
     "output_type": "execute_result"
    }
   ],
   "source": [
    "data.tail()"
   ]
  },
  {
   "cell_type": "markdown",
   "metadata": {},
   "source": [
    "Use `describe()` to summarize everything:"
   ]
  },
  {
   "cell_type": "code",
   "execution_count": 18,
   "metadata": {
    "scrolled": true
   },
   "outputs": [
    {
     "data": {
      "text/html": [
       "<div>\n",
       "<style scoped>\n",
       "    .dataframe tbody tr th:only-of-type {\n",
       "        vertical-align: middle;\n",
       "    }\n",
       "\n",
       "    .dataframe tbody tr th {\n",
       "        vertical-align: top;\n",
       "    }\n",
       "\n",
       "    .dataframe thead th {\n",
       "        text-align: right;\n",
       "    }\n",
       "</style>\n",
       "<table border=\"1\" class=\"dataframe\">\n",
       "  <thead>\n",
       "    <tr style=\"text-align: right;\">\n",
       "      <th></th>\n",
       "      <th>ID</th>\n",
       "      <th>EASTING</th>\n",
       "      <th>NORTHING</th>\n",
       "      <th>mean_SLOPE_50m_buffer</th>\n",
       "      <th>mean_ASPECT_50m_buffer</th>\n",
       "      <th>mean_PLAN_CURVE_50m_buffer</th>\n",
       "      <th>mean_PROFILE_CURVE_50m_buffer</th>\n",
       "    </tr>\n",
       "  </thead>\n",
       "  <tbody>\n",
       "    <tr>\n",
       "      <th>count</th>\n",
       "      <td>478.000000</td>\n",
       "      <td>478.000000</td>\n",
       "      <td>478.000000</td>\n",
       "      <td>478.000000</td>\n",
       "      <td>478.000000</td>\n",
       "      <td>478.000000</td>\n",
       "      <td>478.000000</td>\n",
       "    </tr>\n",
       "    <tr>\n",
       "      <th>mean</th>\n",
       "      <td>239.500000</td>\n",
       "      <td>383042.301697</td>\n",
       "      <td>418700.914490</td>\n",
       "      <td>7.609378</td>\n",
       "      <td>173.707960</td>\n",
       "      <td>0.003646</td>\n",
       "      <td>0.007122</td>\n",
       "    </tr>\n",
       "    <tr>\n",
       "      <th>std</th>\n",
       "      <td>138.130976</td>\n",
       "      <td>8135.602814</td>\n",
       "      <td>4623.912500</td>\n",
       "      <td>2.828688</td>\n",
       "      <td>50.412594</td>\n",
       "      <td>0.013614</td>\n",
       "      <td>0.019211</td>\n",
       "    </tr>\n",
       "    <tr>\n",
       "      <th>min</th>\n",
       "      <td>1.000000</td>\n",
       "      <td>366990.862900</td>\n",
       "      <td>404750.104800</td>\n",
       "      <td>2.076215</td>\n",
       "      <td>44.190374</td>\n",
       "      <td>-0.040609</td>\n",
       "      <td>-0.042939</td>\n",
       "    </tr>\n",
       "    <tr>\n",
       "      <th>25%</th>\n",
       "      <td>120.250000</td>\n",
       "      <td>376621.543175</td>\n",
       "      <td>415387.976925</td>\n",
       "      <td>5.414258</td>\n",
       "      <td>137.495745</td>\n",
       "      <td>-0.004852</td>\n",
       "      <td>-0.002825</td>\n",
       "    </tr>\n",
       "    <tr>\n",
       "      <th>50%</th>\n",
       "      <td>239.500000</td>\n",
       "      <td>383225.184500</td>\n",
       "      <td>418407.052400</td>\n",
       "      <td>7.458237</td>\n",
       "      <td>173.440366</td>\n",
       "      <td>0.002665</td>\n",
       "      <td>0.005444</td>\n",
       "    </tr>\n",
       "    <tr>\n",
       "      <th>75%</th>\n",
       "      <td>358.750000</td>\n",
       "      <td>390900.612425</td>\n",
       "      <td>421888.578125</td>\n",
       "      <td>9.712535</td>\n",
       "      <td>211.924889</td>\n",
       "      <td>0.011714</td>\n",
       "      <td>0.017111</td>\n",
       "    </tr>\n",
       "    <tr>\n",
       "      <th>max</th>\n",
       "      <td>478.000000</td>\n",
       "      <td>395729.168400</td>\n",
       "      <td>430792.689800</td>\n",
       "      <td>17.617747</td>\n",
       "      <td>284.627962</td>\n",
       "      <td>0.047919</td>\n",
       "      <td>0.092028</td>\n",
       "    </tr>\n",
       "  </tbody>\n",
       "</table>\n",
       "</div>"
      ],
      "text/plain": [
       "               ID        EASTING       NORTHING  mean_SLOPE_50m_buffer  \\\n",
       "count  478.000000     478.000000     478.000000             478.000000   \n",
       "mean   239.500000  383042.301697  418700.914490               7.609378   \n",
       "std    138.130976    8135.602814    4623.912500               2.828688   \n",
       "min      1.000000  366990.862900  404750.104800               2.076215   \n",
       "25%    120.250000  376621.543175  415387.976925               5.414258   \n",
       "50%    239.500000  383225.184500  418407.052400               7.458237   \n",
       "75%    358.750000  390900.612425  421888.578125               9.712535   \n",
       "max    478.000000  395729.168400  430792.689800              17.617747   \n",
       "\n",
       "       mean_ASPECT_50m_buffer  mean_PLAN_CURVE_50m_buffer  \\\n",
       "count              478.000000                  478.000000   \n",
       "mean               173.707960                    0.003646   \n",
       "std                 50.412594                    0.013614   \n",
       "min                 44.190374                   -0.040609   \n",
       "25%                137.495745                   -0.004852   \n",
       "50%                173.440366                    0.002665   \n",
       "75%                211.924889                    0.011714   \n",
       "max                284.627962                    0.047919   \n",
       "\n",
       "       mean_PROFILE_CURVE_50m_buffer  \n",
       "count                     478.000000  \n",
       "mean                        0.007122  \n",
       "std                         0.019211  \n",
       "min                        -0.042939  \n",
       "25%                        -0.002825  \n",
       "50%                         0.005444  \n",
       "75%                         0.017111  \n",
       "max                         0.092028  "
      ]
     },
     "execution_count": 18,
     "metadata": {},
     "output_type": "execute_result"
    }
   ],
   "source": [
    "data.describe()"
   ]
  },
  {
   "cell_type": "markdown",
   "metadata": {},
   "source": [
    "## Slicing and selecting"
   ]
  },
  {
   "cell_type": "markdown",
   "metadata": {},
   "source": [
    "We can select data in a number of ways - such as by name:"
   ]
  },
  {
   "cell_type": "code",
   "execution_count": 19,
   "metadata": {},
   "outputs": [
    {
     "data": {
      "text/plain": [
       "0    1\n",
       "1    2\n",
       "2    3\n",
       "3    4\n",
       "4    5\n",
       "Name: ID, dtype: int64"
      ]
     },
     "execution_count": 19,
     "metadata": {},
     "output_type": "execute_result"
    }
   ],
   "source": [
    "data['ID'].head()"
   ]
  },
  {
   "cell_type": "code",
   "execution_count": 20,
   "metadata": {},
   "outputs": [
    {
     "data": {
      "text/plain": [
       "pandas.core.series.Series"
      ]
     },
     "execution_count": 20,
     "metadata": {},
     "output_type": "execute_result"
    }
   ],
   "source": [
    "type(data['ID'])"
   ]
  },
  {
   "cell_type": "markdown",
   "metadata": {},
   "source": [
    "You can then use this selction to create boolean series:"
   ]
  },
  {
   "cell_type": "code",
   "execution_count": 21,
   "metadata": {},
   "outputs": [
    {
     "data": {
      "text/plain": [
       "0       True\n",
       "1       True\n",
       "2       True\n",
       "3       True\n",
       "4       True\n",
       "5       True\n",
       "6       True\n",
       "7       True\n",
       "8       True\n",
       "9       True\n",
       "10      True\n",
       "11      True\n",
       "12      True\n",
       "13      True\n",
       "14      True\n",
       "15      True\n",
       "16      True\n",
       "17      True\n",
       "18      True\n",
       "19      True\n",
       "20     False\n",
       "21     False\n",
       "22     False\n",
       "23     False\n",
       "24     False\n",
       "25     False\n",
       "26     False\n",
       "27     False\n",
       "28     False\n",
       "29     False\n",
       "       ...  \n",
       "448    False\n",
       "449    False\n",
       "450    False\n",
       "451    False\n",
       "452    False\n",
       "453    False\n",
       "454    False\n",
       "455    False\n",
       "456    False\n",
       "457    False\n",
       "458    False\n",
       "459    False\n",
       "460    False\n",
       "461    False\n",
       "462    False\n",
       "463    False\n",
       "464    False\n",
       "465    False\n",
       "466    False\n",
       "467    False\n",
       "468    False\n",
       "469    False\n",
       "470    False\n",
       "471    False\n",
       "472    False\n",
       "473    False\n",
       "474    False\n",
       "475    False\n",
       "476    False\n",
       "477    False\n",
       "Name: ID, Length: 478, dtype: bool"
      ]
     },
     "execution_count": 21,
     "metadata": {},
     "output_type": "execute_result"
    }
   ],
   "source": [
    "data['ID']<=20"
   ]
  },
  {
   "cell_type": "markdown",
   "metadata": {},
   "source": [
    "You can also select by slice if you want to..."
   ]
  },
  {
   "cell_type": "code",
   "execution_count": 22,
   "metadata": {},
   "outputs": [
    {
     "data": {
      "text/html": [
       "<div>\n",
       "<style scoped>\n",
       "    .dataframe tbody tr th:only-of-type {\n",
       "        vertical-align: middle;\n",
       "    }\n",
       "\n",
       "    .dataframe tbody tr th {\n",
       "        vertical-align: top;\n",
       "    }\n",
       "\n",
       "    .dataframe thead th {\n",
       "        text-align: right;\n",
       "    }\n",
       "</style>\n",
       "<table border=\"1\" class=\"dataframe\">\n",
       "  <thead>\n",
       "    <tr style=\"text-align: right;\">\n",
       "      <th></th>\n",
       "      <th>ID</th>\n",
       "      <th>EASTING</th>\n",
       "      <th>NORTHING</th>\n",
       "      <th>bedrock_geology__LEX_ROCK</th>\n",
       "      <th>mean_SLOPE_50m_buffer</th>\n",
       "      <th>mean_ASPECT_50m_buffer</th>\n",
       "      <th>mean_PLAN_CURVE_50m_buffer</th>\n",
       "      <th>mean_PROFILE_CURVE_50m_buffer</th>\n",
       "    </tr>\n",
       "  </thead>\n",
       "  <tbody>\n",
       "    <tr>\n",
       "      <th>1</th>\n",
       "      <td>2</td>\n",
       "      <td>393871.0763</td>\n",
       "      <td>420474.5221</td>\n",
       "      <td>MG-MDSI</td>\n",
       "      <td>10.934832</td>\n",
       "      <td>244.500735</td>\n",
       "      <td>-0.003506</td>\n",
       "      <td>0.003896</td>\n",
       "    </tr>\n",
       "    <tr>\n",
       "      <th>2</th>\n",
       "      <td>3</td>\n",
       "      <td>393051.2768</td>\n",
       "      <td>418804.3483</td>\n",
       "      <td>MG-MDSI</td>\n",
       "      <td>7.565040</td>\n",
       "      <td>97.627193</td>\n",
       "      <td>-0.004946</td>\n",
       "      <td>-0.006697</td>\n",
       "    </tr>\n",
       "    <tr>\n",
       "      <th>3</th>\n",
       "      <td>4</td>\n",
       "      <td>391849.0254</td>\n",
       "      <td>422226.2329</td>\n",
       "      <td>MG-MDSI</td>\n",
       "      <td>12.329064</td>\n",
       "      <td>80.880556</td>\n",
       "      <td>0.020211</td>\n",
       "      <td>0.024860</td>\n",
       "    </tr>\n",
       "    <tr>\n",
       "      <th>4</th>\n",
       "      <td>5</td>\n",
       "      <td>393911.7304</td>\n",
       "      <td>423182.6761</td>\n",
       "      <td>TDG-SDST</td>\n",
       "      <td>8.488237</td>\n",
       "      <td>165.708118</td>\n",
       "      <td>0.009211</td>\n",
       "      <td>-0.013159</td>\n",
       "    </tr>\n",
       "    <tr>\n",
       "      <th>5</th>\n",
       "      <td>6</td>\n",
       "      <td>392789.3907</td>\n",
       "      <td>420742.0991</td>\n",
       "      <td>MG-MDSI</td>\n",
       "      <td>11.608398</td>\n",
       "      <td>148.166454</td>\n",
       "      <td>0.037539</td>\n",
       "      <td>0.064383</td>\n",
       "    </tr>\n",
       "    <tr>\n",
       "      <th>6</th>\n",
       "      <td>7</td>\n",
       "      <td>368694.0344</td>\n",
       "      <td>416221.5938</td>\n",
       "      <td>PLCM-MDSS</td>\n",
       "      <td>4.196449</td>\n",
       "      <td>150.265664</td>\n",
       "      <td>-0.016221</td>\n",
       "      <td>-0.010750</td>\n",
       "    </tr>\n",
       "    <tr>\n",
       "      <th>7</th>\n",
       "      <td>8</td>\n",
       "      <td>373964.5313</td>\n",
       "      <td>425019.2961</td>\n",
       "      <td>PLCM-MDSS</td>\n",
       "      <td>6.092387</td>\n",
       "      <td>230.035513</td>\n",
       "      <td>0.003519</td>\n",
       "      <td>0.003520</td>\n",
       "    </tr>\n",
       "    <tr>\n",
       "      <th>8</th>\n",
       "      <td>9</td>\n",
       "      <td>393443.4977</td>\n",
       "      <td>415084.9882</td>\n",
       "      <td>PLCM-MDSS</td>\n",
       "      <td>7.515469</td>\n",
       "      <td>195.932297</td>\n",
       "      <td>0.013882</td>\n",
       "      <td>0.023560</td>\n",
       "    </tr>\n",
       "    <tr>\n",
       "      <th>9</th>\n",
       "      <td>10</td>\n",
       "      <td>395570.9641</td>\n",
       "      <td>422340.8441</td>\n",
       "      <td>MG-MDSI</td>\n",
       "      <td>12.584794</td>\n",
       "      <td>272.441178</td>\n",
       "      <td>0.005351</td>\n",
       "      <td>0.012629</td>\n",
       "    </tr>\n",
       "  </tbody>\n",
       "</table>\n",
       "</div>"
      ],
      "text/plain": [
       "   ID      EASTING     NORTHING bedrock_geology__LEX_ROCK  \\\n",
       "1   2  393871.0763  420474.5221                   MG-MDSI   \n",
       "2   3  393051.2768  418804.3483                   MG-MDSI   \n",
       "3   4  391849.0254  422226.2329                   MG-MDSI   \n",
       "4   5  393911.7304  423182.6761                  TDG-SDST   \n",
       "5   6  392789.3907  420742.0991                   MG-MDSI   \n",
       "6   7  368694.0344  416221.5938                 PLCM-MDSS   \n",
       "7   8  373964.5313  425019.2961                 PLCM-MDSS   \n",
       "8   9  393443.4977  415084.9882                 PLCM-MDSS   \n",
       "9  10  395570.9641  422340.8441                   MG-MDSI   \n",
       "\n",
       "   mean_SLOPE_50m_buffer  mean_ASPECT_50m_buffer  mean_PLAN_CURVE_50m_buffer  \\\n",
       "1              10.934832              244.500735                   -0.003506   \n",
       "2               7.565040               97.627193                   -0.004946   \n",
       "3              12.329064               80.880556                    0.020211   \n",
       "4               8.488237              165.708118                    0.009211   \n",
       "5              11.608398              148.166454                    0.037539   \n",
       "6               4.196449              150.265664                   -0.016221   \n",
       "7               6.092387              230.035513                    0.003519   \n",
       "8               7.515469              195.932297                    0.013882   \n",
       "9              12.584794              272.441178                    0.005351   \n",
       "\n",
       "   mean_PROFILE_CURVE_50m_buffer  \n",
       "1                       0.003896  \n",
       "2                      -0.006697  \n",
       "3                       0.024860  \n",
       "4                      -0.013159  \n",
       "5                       0.064383  \n",
       "6                      -0.010750  \n",
       "7                       0.003520  \n",
       "8                       0.023560  \n",
       "9                       0.012629  "
      ]
     },
     "execution_count": 22,
     "metadata": {},
     "output_type": "execute_result"
    }
   ],
   "source": [
    "data[1:10]"
   ]
  },
  {
   "cell_type": "markdown",
   "metadata": {},
   "source": [
    "To select data within a range, let's have a look at the coordinates"
   ]
  },
  {
   "cell_type": "markdown",
   "metadata": {},
   "source": [
    "We can reduce the sixze of this table and just keep specific columns like this:"
   ]
  },
  {
   "cell_type": "code",
   "execution_count": 23,
   "metadata": {},
   "outputs": [
    {
     "name": "stdout",
     "output_type": "stream",
     "text": [
      "Original dataframe dimensions:  (478, 8)\n",
      "New dataframe dimensions:  (478, 4)\n"
     ]
    },
    {
     "data": {
      "text/html": [
       "<div>\n",
       "<style scoped>\n",
       "    .dataframe tbody tr th:only-of-type {\n",
       "        vertical-align: middle;\n",
       "    }\n",
       "\n",
       "    .dataframe tbody tr th {\n",
       "        vertical-align: top;\n",
       "    }\n",
       "\n",
       "    .dataframe thead th {\n",
       "        text-align: right;\n",
       "    }\n",
       "</style>\n",
       "<table border=\"1\" class=\"dataframe\">\n",
       "  <thead>\n",
       "    <tr style=\"text-align: right;\">\n",
       "      <th></th>\n",
       "      <th>EASTING</th>\n",
       "      <th>NORTHING</th>\n",
       "      <th>ID</th>\n",
       "      <th>mean_SLOPE_50m_buffer</th>\n",
       "    </tr>\n",
       "  </thead>\n",
       "  <tbody>\n",
       "    <tr>\n",
       "      <th>0</th>\n",
       "      <td>391163.3095</td>\n",
       "      <td>422698.7422</td>\n",
       "      <td>1</td>\n",
       "      <td>11.281712</td>\n",
       "    </tr>\n",
       "    <tr>\n",
       "      <th>1</th>\n",
       "      <td>393871.0763</td>\n",
       "      <td>420474.5221</td>\n",
       "      <td>2</td>\n",
       "      <td>10.934832</td>\n",
       "    </tr>\n",
       "    <tr>\n",
       "      <th>2</th>\n",
       "      <td>393051.2768</td>\n",
       "      <td>418804.3483</td>\n",
       "      <td>3</td>\n",
       "      <td>7.565040</td>\n",
       "    </tr>\n",
       "    <tr>\n",
       "      <th>3</th>\n",
       "      <td>391849.0254</td>\n",
       "      <td>422226.2329</td>\n",
       "      <td>4</td>\n",
       "      <td>12.329064</td>\n",
       "    </tr>\n",
       "    <tr>\n",
       "      <th>4</th>\n",
       "      <td>393911.7304</td>\n",
       "      <td>423182.6761</td>\n",
       "      <td>5</td>\n",
       "      <td>8.488237</td>\n",
       "    </tr>\n",
       "  </tbody>\n",
       "</table>\n",
       "</div>"
      ],
      "text/plain": [
       "       EASTING     NORTHING  ID  mean_SLOPE_50m_buffer\n",
       "0  391163.3095  422698.7422   1              11.281712\n",
       "1  393871.0763  420474.5221   2              10.934832\n",
       "2  393051.2768  418804.3483   3               7.565040\n",
       "3  391849.0254  422226.2329   4              12.329064\n",
       "4  393911.7304  423182.6761   5               8.488237"
      ]
     },
     "execution_count": 23,
     "metadata": {},
     "output_type": "execute_result"
    }
   ],
   "source": [
    "data_sub=data[['EASTING', 'NORTHING', 'ID', 'mean_SLOPE_50m_buffer']]\n",
    "print(\"Original dataframe dimensions: \", data.shape)\n",
    "print(\"New dataframe dimensions: \", data_sub.shape)\n",
    "data_sub.head()"
   ]
  },
  {
   "cell_type": "code",
   "execution_count": 24,
   "metadata": {},
   "outputs": [
    {
     "name": "stdout",
     "output_type": "stream",
     "text": [
      "Bottom left: 366990.86 , 404750.10\n",
      "Top right  : 395729.17 , 430792.69\n"
     ]
    }
   ],
   "source": [
    "print(\"Bottom left: %0.2f , %0.2f\" %(data['EASTING'].min(),data['NORTHING'].min()))\n",
    "print(\"Top right  : %0.2f , %0.2f\" %(data['EASTING'].max(),data['NORTHING'].max()))"
   ]
  },
  {
   "cell_type": "markdown",
   "metadata": {},
   "source": [
    "We can slect all data from the data frame that meet specific conditions. Given the data extent printed above, we'll choose all landslides that occur at Eastings less than 370000.00:"
   ]
  },
  {
   "cell_type": "code",
   "execution_count": 25,
   "metadata": {},
   "outputs": [
    {
     "name": "stdout",
     "output_type": "stream",
     "text": [
      "Original easting max:  395729.1684\n",
      "New easting max:  369971.9778\n",
      "Original dataframe shape:  (478, 8)\n",
      "New dataframe shape:  (26, 8)\n"
     ]
    },
    {
     "data": {
      "text/html": [
       "<div>\n",
       "<style scoped>\n",
       "    .dataframe tbody tr th:only-of-type {\n",
       "        vertical-align: middle;\n",
       "    }\n",
       "\n",
       "    .dataframe tbody tr th {\n",
       "        vertical-align: top;\n",
       "    }\n",
       "\n",
       "    .dataframe thead th {\n",
       "        text-align: right;\n",
       "    }\n",
       "</style>\n",
       "<table border=\"1\" class=\"dataframe\">\n",
       "  <thead>\n",
       "    <tr style=\"text-align: right;\">\n",
       "      <th></th>\n",
       "      <th>ID</th>\n",
       "      <th>EASTING</th>\n",
       "      <th>NORTHING</th>\n",
       "      <th>bedrock_geology__LEX_ROCK</th>\n",
       "      <th>mean_SLOPE_50m_buffer</th>\n",
       "      <th>mean_ASPECT_50m_buffer</th>\n",
       "      <th>mean_PLAN_CURVE_50m_buffer</th>\n",
       "      <th>mean_PROFILE_CURVE_50m_buffer</th>\n",
       "    </tr>\n",
       "  </thead>\n",
       "  <tbody>\n",
       "    <tr>\n",
       "      <th>6</th>\n",
       "      <td>7</td>\n",
       "      <td>368694.0344</td>\n",
       "      <td>416221.5938</td>\n",
       "      <td>PLCM-MDSS</td>\n",
       "      <td>4.196449</td>\n",
       "      <td>150.265664</td>\n",
       "      <td>-0.016221</td>\n",
       "      <td>-0.010750</td>\n",
       "    </tr>\n",
       "    <tr>\n",
       "      <th>121</th>\n",
       "      <td>122</td>\n",
       "      <td>367931.2348</td>\n",
       "      <td>419863.4738</td>\n",
       "      <td>GAS-SDST</td>\n",
       "      <td>9.104470</td>\n",
       "      <td>88.908738</td>\n",
       "      <td>-0.010476</td>\n",
       "      <td>0.002863</td>\n",
       "    </tr>\n",
       "    <tr>\n",
       "      <th>122</th>\n",
       "      <td>123</td>\n",
       "      <td>368469.8519</td>\n",
       "      <td>420430.9230</td>\n",
       "      <td>RR-SDST</td>\n",
       "      <td>7.970967</td>\n",
       "      <td>87.260604</td>\n",
       "      <td>0.010152</td>\n",
       "      <td>0.021476</td>\n",
       "    </tr>\n",
       "    <tr>\n",
       "      <th>123</th>\n",
       "      <td>124</td>\n",
       "      <td>369688.8699</td>\n",
       "      <td>419794.3169</td>\n",
       "      <td>HER-SDST</td>\n",
       "      <td>4.583859</td>\n",
       "      <td>246.549349</td>\n",
       "      <td>0.004688</td>\n",
       "      <td>0.015866</td>\n",
       "    </tr>\n",
       "    <tr>\n",
       "      <th>135</th>\n",
       "      <td>136</td>\n",
       "      <td>369676.1555</td>\n",
       "      <td>423480.1991</td>\n",
       "      <td>OL-SDST</td>\n",
       "      <td>3.779976</td>\n",
       "      <td>207.078952</td>\n",
       "      <td>-0.007719</td>\n",
       "      <td>0.014889</td>\n",
       "    </tr>\n",
       "  </tbody>\n",
       "</table>\n",
       "</div>"
      ],
      "text/plain": [
       "      ID      EASTING     NORTHING bedrock_geology__LEX_ROCK  \\\n",
       "6      7  368694.0344  416221.5938                 PLCM-MDSS   \n",
       "121  122  367931.2348  419863.4738                  GAS-SDST   \n",
       "122  123  368469.8519  420430.9230                   RR-SDST   \n",
       "123  124  369688.8699  419794.3169                  HER-SDST   \n",
       "135  136  369676.1555  423480.1991                   OL-SDST   \n",
       "\n",
       "     mean_SLOPE_50m_buffer  mean_ASPECT_50m_buffer  \\\n",
       "6                 4.196449              150.265664   \n",
       "121               9.104470               88.908738   \n",
       "122               7.970967               87.260604   \n",
       "123               4.583859              246.549349   \n",
       "135               3.779976              207.078952   \n",
       "\n",
       "     mean_PLAN_CURVE_50m_buffer  mean_PROFILE_CURVE_50m_buffer  \n",
       "6                     -0.016221                      -0.010750  \n",
       "121                   -0.010476                       0.002863  \n",
       "122                    0.010152                       0.021476  \n",
       "123                    0.004688                       0.015866  \n",
       "135                   -0.007719                       0.014889  "
      ]
     },
     "execution_count": 25,
     "metadata": {},
     "output_type": "execute_result"
    }
   ],
   "source": [
    "data_e=data[(data['EASTING'] <= 370000.00)]\n",
    "print(\"Original easting max: \", data['EASTING'].max())\n",
    "print(\"New easting max: \", data_e['EASTING'].max())\n",
    "print(\"Original dataframe shape: \", data.shape)\n",
    "print(\"New dataframe shape: \", data_e.shape)\n",
    "data_e.head()"
   ]
  },
  {
   "cell_type": "markdown",
   "metadata": {},
   "source": [
    "## Output to file"
   ]
  },
  {
   "cell_type": "markdown",
   "metadata": {},
   "source": [
    "Let's now write the subset dataframe (`data_e`) to file:"
   ]
  },
  {
   "cell_type": "code",
   "execution_count": 26,
   "metadata": {},
   "outputs": [],
   "source": [
    "ofile=\"data_easting_sub.csv\"\n",
    "\n",
    "data_e.to_csv(ofile)"
   ]
  },
  {
   "cell_type": "markdown",
   "metadata": {},
   "source": [
    "## Plotting"
   ]
  },
  {
   "cell_type": "markdown",
   "metadata": {},
   "source": [
    "Pandas has inbuilt plotting which is handy, especially for single series, but if you want to plot multiple things, I find it easier to use `matplotlib`.... just me though ;)"
   ]
  },
  {
   "cell_type": "markdown",
   "metadata": {},
   "source": [
    "To plot a single column (whoich will be a series) of `data`:"
   ]
  },
  {
   "cell_type": "code",
   "execution_count": 29,
   "metadata": {},
   "outputs": [
    {
     "data": {
      "text/plain": [
       "<matplotlib.axes._subplots.AxesSubplot at 0x1e9036eab00>"
      ]
     },
     "execution_count": 29,
     "metadata": {},
     "output_type": "execute_result"
    },
    {
     "data": {
      "image/png": "[encoded data removed]",
      "text/plain": [
       "<Figure size 432x288 with 1 Axes>"
      ]
     },
     "metadata": {},
     "output_type": "display_data"
    }
   ],
   "source": [
    "#help(data['mean_SLOPE_50m_buffer'].plot())\n",
    "data['mean_SLOPE_50m_buffer'].plot()\n",
    "data['mean_SLOPE_50m_buffer'].plot(ls='dotted')\n"
   ]
  },
  {
   "cell_type": "markdown",
   "metadata": {},
   "source": [
    "Looking at the coordinates again, let's plot them:"
   ]
  },
  {
   "cell_type": "code",
   "execution_count": 31,
   "metadata": {},
   "outputs": [
    {
     "data": {
      "text/plain": [
       "Text(0.5,1,'Spatial distribution')"
      ]
     },
     "execution_count": 31,
     "metadata": {},
     "output_type": "execute_result"
    },
    {
     "data": {
      "image/png": "[encoded data removed]",
      "text/plain": [
       "<Figure size 432x288 with 1 Axes>"
      ]
     },
     "metadata": {},
     "output_type": "display_data"
    }
   ],
   "source": [
    "import matplotlib.pyplot as plt\n",
    "\n",
    "plt.scatter(data['EASTING'], data['NORTHING'])\n",
    "#plt.axis('tight')\n",
    "plt.title(\"Spatial distribution\")"
   ]
  },
  {
   "cell_type": "markdown",
   "metadata": {},
   "source": [
    "Now plot it but colour by slope..."
   ]
  },
  {
   "cell_type": "code",
   "execution_count": 32,
   "metadata": {},
   "outputs": [
    {
     "data": {
      "text/plain": [
       "<matplotlib.colorbar.Colorbar at 0x1e9035ad0f0>"
      ]
     },
     "execution_count": 32,
     "metadata": {},
     "output_type": "execute_result"
    },
    {
     "data": {
      "image/png": "[encoded data removed]",
      "text/plain": [
       "<Figure size 432x288 with 2 Axes>"
      ]
     },
     "metadata": {},
     "output_type": "display_data"
    }
   ],
   "source": [
    "plt.scatter(data['EASTING'], data['NORTHING'], c=data['mean_SLOPE_50m_buffer'])\n",
    "#plt.axis('tight')\n",
    "plt.title(\"Spatial distribution\")\n",
    "plt.colorbar()"
   ]
  },
  {
   "cell_type": "markdown",
   "metadata": {},
   "source": [
    "## Take Pandas further"
   ]
  },
  {
   "cell_type": "markdown",
   "metadata": {},
   "source": [
    "Loads of material is available to get stuck in with Pandas:\n",
    "\n",
    "* [https://pandas.pydata.org](https://pandas.pydata.org)\n",
    "* [https://pandas.pydata.org/pandas-docs/stable/getting_started/10min.html#min](https://pandas.pydata.org/pandas-docs/stable/getting_started/10min.html#min)\n",
    "* [https://medium.com/dunder-data/selecting-subsets-of-data-in-pandas-6fcd0170be9c](https://medium.com/dunder-data/selecting-subsets-of-data-in-pandas-6fcd0170be9c)\n",
    "* [https://www.tutorialspoint.com/python_pandas/python_pandas_series.htm](https://www.tutorialspoint.com/python_pandas/python_pandas_series.htm)\n",
    "* [The Pandas data analysis toolkit](http://chris35wills.github.io/courses/PythonPackages_pandas/)\n",
    "\n",
    "\n",
    "Also check out Geopandas which provides the same infrastructure but for working specifically with geospatial data formats with various spatial functions."
   ]
  }
 ],
 "metadata": {
  "kernelspec": {
   "display_name": "Python 3",
   "language": "python",
   "name": "python3"
  },
  "language_info": {
   "codemirror_mode": {
    "name": "ipython",
    "version": 3
   },
   "file_extension": ".py",
   "mimetype": "text/x-python",
   "name": "python",
   "nbconvert_exporter": "python",
   "pygments_lexer": "ipython3",
   "version": "3.6.3"
  }
 },
 "nbformat": 4,
 "nbformat_minor": 2
}
