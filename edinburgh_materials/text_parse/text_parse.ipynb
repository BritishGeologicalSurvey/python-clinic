{
 "cells": [
  {
   "cell_type": "markdown",
   "metadata": {},
   "source": [
    "### Text parsing examples\n",
    "\n",
    "This notebook demonstrates methods from the Python standard library to:\n",
    "\n",
    "+ find specific text within a larger text string\n",
    "+ replace the text with something else\n",
    "\n",
    "It uses the Standard Library tools.  Methods on the Python `str` objects are used first, for exact matches.\n",
    "Regular expressions from the `re` module allow patterns to be used.\n",
    "\n",
    "The [pythex](https://pythex.org/) website is an excellent reference for Regular Expressions.\n",
    "\n",
    "Beware: Regular Expressions are notoriously fiddly and can make things harder (see https://xkcd.com/1171/)\n",
    "\n",
    "For further reading, see the [Real Python Regular Expression tutorial](https://realpython.com/regex-python/)."
   ]
  },
  {
   "cell_type": "code",
   "execution_count": 2,
   "metadata": {},
   "outputs": [],
   "source": [
    "from pathlib import Path\n",
    "import re"
   ]
  },
  {
   "cell_type": "code",
   "execution_count": 3,
   "metadata": {},
   "outputs": [
    {
     "name": "stdout",
     "output_type": "stream",
     "text": [
      "FVFE01 RJTD 090552                                              2014068 0553\n",
      "VA ADVISORY\n",
      "DTG: 20140309/0552Z\n",
      "VAAC: TOKYO\n",
      "VOLCANO: SAKURAJIMA 0802-08\n",
      "PSN: N3135E13040\n",
      "AREA: JAPAN\n",
      "SUMMIT ELEV: 1060M\n",
      "ADVISORY NR: 2014/90\n",
      "INFO SOURCE: MTSAT-2\n",
      "AVIATION COLOUR CODE: NIL\n",
      "ERUPTION DETAILS: VA CONTINUOUSLY OBS ON SATELLITE IMAGERY.\n",
      "OBS VA DTG: 09/0515Z\n",
      "OBS VA CLD: SFC/FL120 N3105 E13115 - N3125 E13150 - N3115 E13210 -\n",
      "N3\n",
      "130 E13235 - N3115 E13245 - N3055 E13205 - N3100 E13150 - N3050\n",
      "E1312\n",
      "0 MOV SE 25KT\n",
      "FCST VA CLD +6 HR: 09/1115Z SFC/FL110 N3010 E13225 - N3115 E13730 -\n",
      "N\n",
      "2945 E13730 - N2900 E13500 - N2900 E13230\n",
      "FCST VA CLD +12 HR: 09/1715Z SFC/FL090 N2830 E13350 - N2835 E13720 -\n",
      "N3030 E14105 - N2855 E14150 - N2705 E13905 - N2700 E13400\n",
      "FCST VA CLD +18 HR: 09/2315Z SFC/FL080 N2735 E14035 - N2950 E14440 -\n",
      "N2820 E14555 - N2545 E14200 - N2455 E13455 - N2620 E13455\n",
      "RMK: NIL\n",
      "NXT ADVISORY: 20140309/1200Z=\n",
      "\n"
     ]
    }
   ],
   "source": [
    "# Simple text string\n",
    "EMAIL_ADDRESS = \"user123@example.com\"\n",
    "\n",
    "# A Volcanic Ash Advisory notice is a more complicated text string\n",
    "VAA_TEXT = Path('VAA_EXAMPLE.DAT').read_text()\n",
    "print(VAA_TEXT)"
   ]
  },
  {
   "cell_type": "markdown",
   "metadata": {},
   "source": [
    "### String methods"
   ]
  },
  {
   "cell_type": "code",
   "execution_count": 5,
   "metadata": {},
   "outputs": [
    {
     "data": {
      "text/plain": [
       "True"
      ]
     },
     "execution_count": 5,
     "metadata": {},
     "output_type": "execute_result"
    }
   ],
   "source": [
    "# Check that text exists\n",
    "\"user\" in EMAIL_ADDRESS"
   ]
  },
  {
   "cell_type": "code",
   "execution_count": 4,
   "metadata": {},
   "outputs": [
    {
     "data": {
      "text/plain": [
       "8"
      ]
     },
     "execution_count": 4,
     "metadata": {},
     "output_type": "execute_result"
    }
   ],
   "source": [
    "# Check where it is found\n",
    "EMAIL_ADDRESS.find(\"example\")"
   ]
  },
  {
   "cell_type": "code",
   "execution_count": 5,
   "metadata": {},
   "outputs": [
    {
     "data": {
      "text/plain": [
       "True"
      ]
     },
     "execution_count": 5,
     "metadata": {},
     "output_type": "execute_result"
    }
   ],
   "source": [
    "# Use .casefold for case-insensitive comparison\n",
    "\"USER\".casefold() in EMAIL_ADDRESS"
   ]
  },
  {
   "cell_type": "code",
   "execution_count": 6,
   "metadata": {},
   "outputs": [
    {
     "data": {
      "text/plain": [
       "'user123@bgs.ac.uk'"
      ]
     },
     "execution_count": 6,
     "metadata": {},
     "output_type": "execute_result"
    }
   ],
   "source": [
    "# Use .replace to replace text\n",
    "EMAIL_ADDRESS.replace(\"example.com\", \"bgs.ac.uk\")"
   ]
  },
  {
   "cell_type": "code",
   "execution_count": 14,
   "metadata": {},
   "outputs": [
    {
     "name": "stdout",
     "output_type": "stream",
     "text": [
      "FVFE01 RJTD 090552                                              2014068 0553\n",
      "VA ADVISORY\n",
      "DTG: 20140309/0552Z\n",
      "VAAC: TOKYO\n",
      "VOLCANO: SAKURAJIMA 0802-08\n",
      "PSN: N3135E13040\n",
      "AREA: JAPAN\n",
      "SUMMIT ELEV: 1060M\n",
      "ADVISORY NR: 2014/90\n",
      "INFO SOURCE: MTSAT-2\n",
      "AVIATION COLOUR CODE: NIL\n",
      "ERUPTION DETAILS: VA CONTINUOUSLY OBS ON SATELLITE IMAGERY.\n",
      "OBS VA DTG: 09/0515Z\n",
      "OBS VA CLD: SFC/FL120 N3105 E13115 - N3125 E13150 - N3115 E13210 -\n",
      "N3\n",
      "130 E13235 - N3115 E13245 - N3055 E13205 - N3100 E13150 - N3050\n",
      "E1312\n",
      "0 MOV SE 25KT\n",
      "FCST VA CLD +6 HR: 09/1115Z SFC/FL110 N3010 E13225 - N3115 E13730 -\n",
      "N\n",
      "2945 E13730 - N2900 E13500 - N2900 E13230\n",
      "FCST VA CLD +12 HR: 09/1715Z SFC/FL090 N2830 E13350 - N2835 E13720 -\n",
      "N3030 E14105 - N2855 E14150 - N2705 E13905 - N2700 E13400\n",
      "FCST VA CLD +18 HR: 09/2315Z SFC/FL080 N2735 E14035 - N2950 E14440 -\n",
      "N2820 E14555 - N2545 E14200 - N2455 E13455 - N2620 E13455\n",
      "RMK: NIL\n",
      "NXT ADVISORY: 20140309/1200Z=\n",
      "\n"
     ]
    }
   ],
   "source": [
    "# Use split to break text into newlines\n",
    "for line_no, line in enumerate(VAA_TEXT.split('\\n')):\n",
    "    print(f\"{line}\")"
   ]
  },
  {
   "cell_type": "markdown",
   "metadata": {},
   "source": [
    "#### Exercise\n",
    "\n",
    "+ Write a function, `extract_vaac`, to extract the VAAC from the VAA text.\n",
    "  <details><summary>Hint</summary>\n",
    "  Split twice, first on newlines, then on `:`\n",
    "  </details>\n",
    "+ Confirm the function works by running `assert extract_vaac(VAA_TEXT) == \"TOKYO\"`"
   ]
  },
  {
   "cell_type": "markdown",
   "metadata": {},
   "source": [
    "### Regular expressions"
   ]
  },
  {
   "cell_type": "code",
   "execution_count": 12,
   "metadata": {},
   "outputs": [
    {
     "name": "stdout",
     "output_type": "stream",
     "text": [
      "user123\n"
     ]
    }
   ],
   "source": [
    "# Simple match\n",
    "\n",
    "match = re.search(r'user123', EMAIL_ADDRESS)\n",
    "if match:\n",
    "    print(match.group())"
   ]
  },
  {
   "cell_type": "code",
   "execution_count": null,
   "metadata": {},
   "outputs": [
    {
     "data": {
      "text/plain": [
       "'user123@bgs.ac.uk'"
      ]
     },
     "execution_count": 16,
     "metadata": {},
     "output_type": "execute_result"
    }
   ],
   "source": [
    "# Simple replace (substitute)\n",
    "re.sub(r'example.com', 'bgs.ac.uk', EMAIL_ADDRESS)"
   ]
  },
  {
   "cell_type": "code",
   "execution_count": 15,
   "metadata": {},
   "outputs": [
    {
     "name": "stdout",
     "output_type": "stream",
     "text": [
      "123\n",
      "('user123', 'example.com')\n"
     ]
    }
   ],
   "source": [
    "# Special characters and groups (see pythex.org)\n",
    "# . - any character\n",
    "# \\d - digit\n",
    "# \\s - whitespace\n",
    "# \\w - word character\n",
    "# \\. - literal .\n",
    "# ? - zero or one\n",
    "# + - one or more\n",
    "# * = zero or more\n",
    "# ^ = start of string\n",
    "# $ = end of string\n",
    "match = re.search(r'\\d+', EMAIL_ADDRESS)\n",
    "if match:\n",
    "    print(match.group())\n",
    "\n",
    "match = re.search(r'(.*)@(.*)', EMAIL_ADDRESS, flags=re.MULTILINE)\n",
    "if match:\n",
    "    print(match.groups())\n",
    "    username, domain = match.groups()\n"
   ]
  },
  {
   "cell_type": "code",
   "execution_count": 17,
   "metadata": {},
   "outputs": [
    {
     "data": {
      "text/plain": [
       "'user: user123, email: example.com'"
      ]
     },
     "execution_count": 17,
     "metadata": {},
     "output_type": "execute_result"
    }
   ],
   "source": [
    "# Substitution with groups\n",
    "# Groups are stored in numbered locations e.g. \\1\n",
    "re.sub(r'(.*)@(.*)', r'user: \\1, email: \\2', EMAIL_ADDRESS)"
   ]
  },
  {
   "cell_type": "markdown",
   "metadata": {},
   "source": [
    "#### Exercise\n",
    "\n",
    "+ Write a regular expression to extract the VAAC from the VAAC text.  You will need the re.MULTILINE flag to match the `$` within the text."
   ]
  },
  {
   "cell_type": "code",
   "execution_count": 21,
   "metadata": {},
   "outputs": [
    {
     "data": {
      "text/plain": [
       "[]"
      ]
     },
     "execution_count": 21,
     "metadata": {},
     "output_type": "execute_result"
    }
   ],
   "source": [
    "re.findall(r'\\d{4}-\\d{2}-\\d{2}', VAA_TEXT)"
   ]
  },
  {
   "cell_type": "markdown",
   "metadata": {},
   "source": [
    "### Stretch exercise\n",
    "+ Write a function that takes the observed cloud extent and returns a list of lat, long pairs. e.g. `SFC/FL120 N3105 E13115 - N3125 E13150 - N3115 E13210 -\n",
    "N3\n",
    "130 E13235 - N3115 E13245 - N3055 E13205 - N3100 E13150 - N3050\n",
    "E1312`"
   ]
  },
  {
   "cell_type": "code",
   "execution_count": null,
   "metadata": {},
   "outputs": [],
   "source": []
  },
  {
   "cell_type": "code",
   "execution_count": null,
   "metadata": {},
   "outputs": [],
   "source": []
  }
 ],
 "metadata": {
  "kernelspec": {
   "display_name": "Python 3 (ipykernel)",
   "language": "python",
   "name": "python3"
  },
  "language_info": {
   "codemirror_mode": {
    "name": "ipython",
    "version": 3
   },
   "file_extension": ".py",
   "mimetype": "text/x-python",
   "name": "python",
   "nbconvert_exporter": "python",
   "pygments_lexer": "ipython3",
   "version": "3.12.4"
  }
 },
 "nbformat": 4,
 "nbformat_minor": 4
}
