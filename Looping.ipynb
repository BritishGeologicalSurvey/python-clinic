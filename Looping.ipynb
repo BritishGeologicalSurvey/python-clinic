{
 "cells": [
  {
   "cell_type": "markdown",
   "metadata": {},
   "source": [
    "# Going a little loopy"
   ]
  },
  {
   "cell_type": "markdown",
   "metadata": {},
   "source": [
    "### Fixed looping in various languages \n",
    "\n",
    "**DO loop in FORTRAN 77**\n",
    "```\n",
    "    DO 10, I = 1,10,1\n",
    "        ...\n",
    " 10 CONTINUE\n",
    "```\n",
    "\n",
    "**FOR loop in BASIC**\n",
    "```\n",
    "    FOR i = 1 TO 10 STEP 1\n",
    "        ...\n",
    "    NEXT\n",
    "```\n",
    "\n",
    "**for loop in C**\n",
    "```\n",
    "    for( i = 0; i < 10; i++ ){\n",
    "        ...;\n",
    "    }\n",
    "```"
   ]
  },
  {
   "cell_type": "markdown",
   "metadata": {},
   "source": [
    "These types of fixed loops are usually used for iterating through a list, array or other sequence using the inded. Some langauages start at 1, some at 0. Edge effects, wrong start or end can cause benign or disastrous errors."
   ]
  },
  {
   "cell_type": "markdown",
   "metadata": {},
   "source": [
    "### For each...\n",
    "    "
   ]
  },
  {
   "cell_type": "code",
   "execution_count": 95,
   "metadata": {},
   "outputs": [
    {
     "name": "stdout",
     "output_type": "stream",
     "text": [
      "Jo\n",
      "John\n",
      "Colin\n"
     ]
    },
    {
     "data": {
      "text/plain": [
       "'Colin'"
      ]
     },
     "execution_count": 95,
     "metadata": {},
     "output_type": "execute_result"
    }
   ],
   "source": [
    "# Go through each element of a list and print it\n",
    "given_names = ['Jo', 'John', 'Colin']\n",
    "\n",
    "for gn in given_names:\n",
    "    print(gn)\n",
    "# The last iteration leaves its mark\n",
    "gn"
   ]
  },
  {
   "cell_type": "markdown",
   "metadata": {},
   "source": [
    "### Now we need the index!"
   ]
  },
  {
   "cell_type": "code",
   "execution_count": 82,
   "metadata": {},
   "outputs": [
    {
     "name": "stdout",
     "output_type": "stream",
     "text": [
      "Jo Walsh\n",
      "John Stevenson\n",
      "Colin Blackburn\n"
     ]
    }
   ],
   "source": [
    "# Now we have two matched lists, so let's use an index\n",
    "family_names = ['Walsh', 'Stevenson', 'Blackburn']\n",
    "for i in range(0, len(given_names)):\n",
    "    print(given_names[i], family_names[i])"
   ]
  },
  {
   "cell_type": "markdown",
   "metadata": {},
   "source": [
    "### What is range()?"
   ]
  },
  {
   "cell_type": "code",
   "execution_count": 83,
   "metadata": {},
   "outputs": [
    {
     "data": {
      "text/plain": [
       "range(0, 3)"
      ]
     },
     "execution_count": 83,
     "metadata": {},
     "output_type": "execute_result"
    }
   ],
   "source": [
    "# range() is an iterator that returns numbers,\n",
    "# in this case from 0 to 2 inclusive.\n",
    "range(0, len(given_names))"
   ]
  },
  {
   "cell_type": "code",
   "execution_count": 85,
   "metadata": {},
   "outputs": [
    {
     "data": {
      "text/plain": [
       "[0, 1, 2]"
      ]
     },
     "execution_count": 85,
     "metadata": {},
     "output_type": "execute_result"
    }
   ],
   "source": [
    "# Use an iterator to craete a list, okay for small numbers of items but beware!\n",
    "list(range(0, len(given_names)))"
   ]
  },
  {
   "cell_type": "markdown",
   "metadata": {},
   "source": [
    "### Avoiding range()"
   ]
  },
  {
   "cell_type": "code",
   "execution_count": 89,
   "metadata": {},
   "outputs": [
    {
     "name": "stdout",
     "output_type": "stream",
     "text": [
      "0 Jo Walsh\n",
      "1 John Stevenson\n",
      "2 Colin Blackburn\n"
     ]
    }
   ],
   "source": [
    "# Enumerate return the index and the element\n",
    "for i, fn in enumerate(family_names):\n",
    "    print(i, given_names[i], fn)"
   ]
  },
  {
   "cell_type": "markdown",
   "metadata": {},
   "source": [
    "### Even better, no index at all!"
   ]
  },
  {
   "cell_type": "code",
   "execution_count": 90,
   "metadata": {},
   "outputs": [
    {
     "name": "stdout",
     "output_type": "stream",
     "text": [
      "Jo Walsh\n",
      "John Stevenson\n",
      "Colin Blackburn\n"
     ]
    }
   ],
   "source": [
    "# But we can avoid index altogether\n",
    "for name in zip(given_names, family_names):\n",
    "    print(name[0], name[1])"
   ]
  },
  {
   "cell_type": "markdown",
   "metadata": {},
   "source": [
    "### What is zip()?"
   ]
  },
  {
   "cell_type": "code",
   "execution_count": 91,
   "metadata": {},
   "outputs": [
    {
     "data": {
      "text/plain": [
       "<zip at 0x4b5fe68>"
      ]
     },
     "execution_count": 91,
     "metadata": {},
     "output_type": "execute_result"
    }
   ],
   "source": [
    "# It's another iterator, this time it returns tuples,\n",
    "# comprising one item from each list\n",
    "zip(given_names, family_names)"
   ]
  },
  {
   "cell_type": "code",
   "execution_count": 92,
   "metadata": {},
   "outputs": [
    {
     "data": {
      "text/plain": [
       "[('Jo', 'Walsh'), ('John', 'Stevenson'), ('Colin', 'Blackburn')]"
      ]
     },
     "execution_count": 92,
     "metadata": {},
     "output_type": "execute_result"
    }
   ],
   "source": [
    "# Again, turning it into a list shows us\n",
    "list(zip(given_names, family_names))"
   ]
  },
  {
   "cell_type": "markdown",
   "metadata": {},
   "source": [
    "### List comprehension"
   ]
  },
  {
   "cell_type": "code",
   "execution_count": 93,
   "metadata": {},
   "outputs": [
    {
     "data": {
      "text/plain": [
       "['Jo Walsh', 'John Stevenson', 'Colin Blackburn']"
      ]
     },
     "execution_count": 93,
     "metadata": {},
     "output_type": "execute_result"
    }
   ],
   "source": [
    "# Generate a list from another list or iterator,\n",
    "# an abbreviated form of a for loop, useful simple transformations\n",
    "[f'{name[0]} {name[1]}' for name in zip(given_names, family_names)]"
   ]
  },
  {
   "cell_type": "code",
   "execution_count": 94,
   "metadata": {},
   "outputs": [
    {
     "name": "stdout",
     "output_type": "stream",
     "text": [
      "Jo Walsh\n",
      "John Stevenson\n",
      "Colin Blackburn\n"
     ]
    }
   ],
   "source": [
    "\n",
    "full_names = [f'{name[0]} {name[1]}' for name in zip(given_names, family_names)]\n",
    "for name in full_names:\n",
    "    print(name)"
   ]
  },
  {
   "cell_type": "code",
   "execution_count": 123,
   "metadata": {},
   "outputs": [
    {
     "data": {
      "text/plain": [
       "[1, 4, 9, 16, 25, 36, 49, 64, 81, 100]"
      ]
     },
     "execution_count": 123,
     "metadata": {},
     "output_type": "execute_result"
    }
   ],
   "source": [
    "# Squares using list comprehension\n",
    "[x*x for x in range(1,11)]"
   ]
  },
  {
   "cell_type": "code",
   "execution_count": 124,
   "metadata": {},
   "outputs": [
    {
     "data": {
      "text/plain": [
       "[1, 4, 9, 16, 25, 36, 49, 64, 81, 100]"
      ]
     },
     "execution_count": 124,
     "metadata": {},
     "output_type": "execute_result"
    }
   ],
   "source": [
    "# Squares doing it the longer way\n",
    "squares = []\n",
    "for x in range(1, 11):\n",
    "    squares.append(x*x)\n",
    "\n",
    "squares"
   ]
  },
  {
   "cell_type": "markdown",
   "metadata": {},
   "source": [
    "### More functions and methods to avoid loops"
   ]
  },
  {
   "cell_type": "code",
   "execution_count": 125,
   "metadata": {},
   "outputs": [
    {
     "data": {
      "text/plain": [
       "['a', 'l', 'l', 'o', 'o', 't', 'x']"
      ]
     },
     "execution_count": 125,
     "metadata": {},
     "output_type": "execute_result"
    }
   ],
   "source": [
    "# sorted uses the elemnts defined order\n",
    "rack = ['x', 'o', 'a', 'l', 'o', 'l', 't']\n",
    "rack = sorted(rack)\n",
    "rack"
   ]
  },
  {
   "cell_type": "code",
   "execution_count": 99,
   "metadata": {},
   "outputs": [
    {
     "data": {
      "text/plain": [
       "'x'"
      ]
     },
     "execution_count": 99,
     "metadata": {},
     "output_type": "execute_result"
    }
   ],
   "source": [
    "# Again, the defined order tells us the max (or min)\n",
    "max(rack)"
   ]
  },
  {
   "cell_type": "code",
   "execution_count": 100,
   "metadata": {},
   "outputs": [
    {
     "data": {
      "text/plain": [
       "False"
      ]
     },
     "execution_count": 100,
     "metadata": {},
     "output_type": "execute_result"
    }
   ],
   "source": [
    "# in saves looping through a list looking for an item\n",
    "'q' in rack"
   ]
  },
  {
   "cell_type": "code",
   "execution_count": 103,
   "metadata": {},
   "outputs": [
    {
     "data": {
      "text/plain": [
       "3"
      ]
     },
     "execution_count": 103,
     "metadata": {},
     "output_type": "execute_result"
    }
   ],
   "source": [
    "# index tells us where an item is...\n",
    "rack.index('o')"
   ]
  },
  {
   "cell_type": "code",
   "execution_count": 126,
   "metadata": {},
   "outputs": [
    {
     "ename": "ValueError",
     "evalue": "'q' is not in list",
     "output_type": "error",
     "traceback": [
      "\u001b[1;31m---------------------------------------------------------------------------\u001b[0m",
      "\u001b[1;31mValueError\u001b[0m                                Traceback (most recent call last)",
      "\u001b[1;32m<ipython-input-126-7419d3e3275b>\u001b[0m in \u001b[0;36m<module>\u001b[1;34m\u001b[0m\n\u001b[1;32m----> 1\u001b[1;33m \u001b[0mrack\u001b[0m\u001b[1;33m.\u001b[0m\u001b[0mindex\u001b[0m\u001b[1;33m(\u001b[0m\u001b[1;34m'q'\u001b[0m\u001b[1;33m)\u001b[0m\u001b[1;33m\u001b[0m\u001b[0m\n\u001b[0m",
      "\u001b[1;31mValueError\u001b[0m: 'q' is not in list"
     ]
    }
   ],
   "source": [
    "# ... but raises a ValueError exception if it can't be found\n",
    "rack.index('q')"
   ]
  },
  {
   "cell_type": "code",
   "execution_count": 127,
   "metadata": {},
   "outputs": [
    {
     "data": {
      "text/plain": [
       "2"
      ]
     },
     "execution_count": 127,
     "metadata": {},
     "output_type": "execute_result"
    }
   ],
   "source": [
    "# How many 'o'\n",
    "rack.count('o')"
   ]
  },
  {
   "cell_type": "code",
   "execution_count": null,
   "metadata": {},
   "outputs": [],
   "source": [
    "### Getting out of loops"
   ]
  },
  {
   "cell_type": "code",
   "execution_count": 128,
   "metadata": {},
   "outputs": [
    {
     "name": "stdout",
     "output_type": "stream",
     "text": [
      "a\n",
      "l\n",
      "l\n",
      "o\n"
     ]
    },
    {
     "data": {
      "text/plain": [
       "True"
      ]
     },
     "execution_count": 128,
     "metadata": {},
     "output_type": "execute_result"
    }
   ],
   "source": [
    "# break gets out of a loop as soon as a condition is met,\n",
    "# here this has the same effect as 'in' up above\n",
    "value = 'o'\n",
    "sequence = rack\n",
    "is_in = False\n",
    "for v in sequence:\n",
    "    print(v)\n",
    "    if v == value:\n",
    "        # We've found it, set flag and exit loop\n",
    "        is_in = True\n",
    "        break\n",
    "is_in"
   ]
  },
  {
   "cell_type": "markdown",
   "metadata": {},
   "source": [
    "### Avoiding  bits of loops"
   ]
  },
  {
   "cell_type": "code",
   "execution_count": 107,
   "metadata": {},
   "outputs": [
    {
     "name": "stdout",
     "output_type": "stream",
     "text": [
      "a l l t x "
     ]
    }
   ],
   "source": [
    "# continue goes back to the top of the loop on a condition\n",
    "for v in sequence:\n",
    "    if v == value:\n",
    "        continue\n",
    "    print(v, end=' ')"
   ]
  },
  {
   "cell_type": "code",
   "execution_count": 108,
   "metadata": {},
   "outputs": [
    {
     "name": "stdout",
     "output_type": "stream",
     "text": [
      "a l l t x "
     ]
    }
   ],
   "source": [
    "# The same thing can be achieved with pass.\n",
    "# Both pass and continue can be useful occasionally.\n",
    "for v in sequence:\n",
    "    if v == value:\n",
    "        pass\n",
    "    else:\n",
    "        print(v, end=' ')"
   ]
  },
  {
   "cell_type": "markdown",
   "metadata": {},
   "source": [
    "### Looping through dictionaries"
   ]
  },
  {
   "cell_type": "code",
   "execution_count": 111,
   "metadata": {},
   "outputs": [
    {
     "data": {
      "text/plain": [
       "{'Walsh': 'Jo', 'Stevenson': 'John', 'Blackburn': 'Colin'}"
      ]
     },
     "execution_count": 111,
     "metadata": {},
     "output_type": "execute_result"
    }
   ],
   "source": [
    "# We can turn two lists into a dictionary using zip() and dict()\n",
    "contacts = dict(zip(family_names, given_names))\n",
    "contacts"
   ]
  },
  {
   "cell_type": "code",
   "execution_count": 112,
   "metadata": {},
   "outputs": [
    {
     "name": "stdout",
     "output_type": "stream",
     "text": [
      "Jo Walsh\n",
      "John Stevenson\n",
      "Colin Blackburn\n"
     ]
    }
   ],
   "source": [
    "# The default loop is to use the dictionary keys.\n",
    "# Equivalent to 'fn in contacts.keys()'\n",
    "# Prior to Python 3.6 dictionaries were not ordered\n",
    "# so don't rely on order if you want to run the code elsewhere.\n",
    "# OrderedDict is guaranteed to be ordered, see collections below.\n",
    "for fn in contacts:\n",
    "    print(contacts[fn], fn)"
   ]
  },
  {
   "cell_type": "code",
   "execution_count": 113,
   "metadata": {},
   "outputs": [
    {
     "name": "stdout",
     "output_type": "stream",
     "text": [
      "Jo Walsh\n",
      "John Stevenson\n",
      "Colin Blackburn\n"
     ]
    }
   ],
   "source": [
    "# items() returns tuples of key/value pairs\n",
    "for fn, gn in contacts.items():\n",
    "    print(gn, fn)"
   ]
  },
  {
   "cell_type": "code",
   "execution_count": 114,
   "metadata": {},
   "outputs": [
    {
     "name": "stdout",
     "output_type": "stream",
     "text": [
      "Jo\n",
      "John\n",
      "Colin\n"
     ]
    }
   ],
   "source": [
    "# And values() retruns just the values\n",
    "for gn in contacts.values():\n",
    "    print(gn)"
   ]
  },
  {
   "cell_type": "code",
   "execution_count": 115,
   "metadata": {},
   "outputs": [
    {
     "data": {
      "text/plain": [
       "[('Walsh', 'Jo'), ('Stevenson', 'John'), ('Blackburn', 'Colin')]"
      ]
     },
     "execution_count": 115,
     "metadata": {},
     "output_type": "execute_result"
    }
   ],
   "source": [
    "# Turning a dictionary into a list gets our tuples back\n",
    "contact_list = list(contacts.items())\n",
    "contact_list"
   ]
  },
  {
   "cell_type": "code",
   "execution_count": 116,
   "metadata": {},
   "outputs": [
    {
     "data": {
      "text/plain": [
       "[('Walsh', 'Stevenson', 'Blackburn'), ('Jo', 'John', 'Colin')]"
      ]
     },
     "execution_count": 116,
     "metadata": {},
     "output_type": "execute_result"
    }
   ],
   "source": [
    "# unpacking the list of tuple, the * operator, and using zip()\n",
    "# gets back to the original lists of family names and given names\n",
    "list(zip(*contact_list))"
   ]
  },
  {
   "cell_type": "markdown",
   "metadata": {},
   "source": [
    "### Some resources\n",
    "\n",
    "Built-in functions: https://docs.python.org/3/library/functions.html This describes zip(), sorted(), max(), etc. andd many more useful functions.\n",
    "\n",
    "Lists, dictionaries and lots more: https://docs.python.org/3/library/stdtypes.html Describes the details, operators and methods of tuples, lists, dicts, sets, etc.\n",
    "\n",
    "Collections: https://docs.python.org/3/library/collections.html Some extra collections that can be useful: OrderedDict, namedtuple, deque, for example."
   ]
  },
  {
   "cell_type": "markdown",
   "metadata": {},
   "source": [
    "### While we are here..."
   ]
  },
  {
   "cell_type": "code",
   "execution_count": null,
   "metadata": {},
   "outputs": [],
   "source": [
    "# more_python_to_learn = True\n",
    "# while more_python_to_learn:\n",
    "#     print('Keep coming to python clinics!')"
   ]
  },
  {
   "cell_type": "code",
   "execution_count": 129,
   "metadata": {},
   "outputs": [
    {
     "name": "stdout",
     "output_type": "stream",
     "text": [
      "3\n",
      "4\n"
     ]
    }
   ],
   "source": [
    "# Use a while loop to find all occurrences of a letter\n",
    "# by repeatedly using .index() until there is an exception\n",
    "\n",
    "# Initial index\n",
    "start = 0\n",
    "# Keep going forever...\n",
    "while True:\n",
    "    try:\n",
    "        # Find the next 'o'\n",
    "        index = rack.index('o', start)\n",
    "        print(index)\n",
    "        start = index + 1\n",
    "    except ValueError:\n",
    "        # Failed to find another, break out\n",
    "        break"
   ]
  },
  {
   "cell_type": "code",
   "execution_count": null,
   "metadata": {},
   "outputs": [],
   "source": []
  }
 ],
 "metadata": {
  "kernelspec": {
   "display_name": "Python 3",
   "language": "python",
   "name": "python3"
  },
  "language_info": {
   "codemirror_mode": {
    "name": "ipython",
    "version": 3
   },
   "file_extension": ".py",
   "mimetype": "text/x-python",
   "name": "python",
   "nbconvert_exporter": "python",
   "pygments_lexer": "ipython3",
   "version": "3.6.5"
  }
 },
 "nbformat": 4,
 "nbformat_minor": 2
}
