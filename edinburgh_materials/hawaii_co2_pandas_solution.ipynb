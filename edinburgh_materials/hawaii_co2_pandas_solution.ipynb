{
 "cells": [
  {
   "cell_type": "code",
   "execution_count": 1,
   "metadata": {},
   "outputs": [],
   "source": [
    "import pandas as pd"
   ]
  },
  {
   "cell_type": "code",
   "execution_count": 2,
   "metadata": {},
   "outputs": [],
   "source": [
    "out_directory = 'out/'"
   ]
  },
  {
   "cell_type": "code",
   "execution_count": 3,
   "metadata": {},
   "outputs": [],
   "source": [
    "names=['year',\n",
    "       'month',\n",
    "       'decimal date',\n",
    "       'average',\n",
    "       'interpolated',\n",
    "       'trend',\n",
    "       'num days']"
   ]
  },
  {
   "cell_type": "code",
   "execution_count": 4,
   "metadata": {
    "scrolled": true
   },
   "outputs": [
    {
     "data": {
      "text/html": [
       "<div>\n",
       "<style scoped>\n",
       "    .dataframe tbody tr th:only-of-type {\n",
       "        vertical-align: middle;\n",
       "    }\n",
       "\n",
       "    .dataframe tbody tr th {\n",
       "        vertical-align: top;\n",
       "    }\n",
       "\n",
       "    .dataframe thead th {\n",
       "        text-align: right;\n",
       "    }\n",
       "</style>\n",
       "<table border=\"1\" class=\"dataframe\">\n",
       "  <thead>\n",
       "    <tr style=\"text-align: right;\">\n",
       "      <th></th>\n",
       "      <th>date</th>\n",
       "      <th>average</th>\n",
       "      <th>interpolated</th>\n",
       "      <th>trend</th>\n",
       "      <th>num days</th>\n",
       "    </tr>\n",
       "    <tr>\n",
       "      <th>decimal date</th>\n",
       "      <th></th>\n",
       "      <th></th>\n",
       "      <th></th>\n",
       "      <th></th>\n",
       "      <th></th>\n",
       "    </tr>\n",
       "  </thead>\n",
       "  <tbody>\n",
       "    <tr>\n",
       "      <th>1958.208</th>\n",
       "      <td>1958-03-01</td>\n",
       "      <td>315.71</td>\n",
       "      <td>315.71</td>\n",
       "      <td>314.62</td>\n",
       "      <td>NaN</td>\n",
       "    </tr>\n",
       "    <tr>\n",
       "      <th>1958.292</th>\n",
       "      <td>1958-04-01</td>\n",
       "      <td>317.45</td>\n",
       "      <td>317.45</td>\n",
       "      <td>315.29</td>\n",
       "      <td>NaN</td>\n",
       "    </tr>\n",
       "    <tr>\n",
       "      <th>1958.375</th>\n",
       "      <td>1958-05-01</td>\n",
       "      <td>317.50</td>\n",
       "      <td>317.50</td>\n",
       "      <td>314.71</td>\n",
       "      <td>NaN</td>\n",
       "    </tr>\n",
       "    <tr>\n",
       "      <th>1958.458</th>\n",
       "      <td>1958-06-01</td>\n",
       "      <td>NaN</td>\n",
       "      <td>317.10</td>\n",
       "      <td>314.85</td>\n",
       "      <td>NaN</td>\n",
       "    </tr>\n",
       "    <tr>\n",
       "      <th>1958.542</th>\n",
       "      <td>1958-07-01</td>\n",
       "      <td>315.86</td>\n",
       "      <td>315.86</td>\n",
       "      <td>314.98</td>\n",
       "      <td>NaN</td>\n",
       "    </tr>\n",
       "  </tbody>\n",
       "</table>\n",
       "</div>"
      ],
      "text/plain": [
       "                   date  average  interpolated   trend  num days\n",
       "decimal date                                                    \n",
       "1958.208     1958-03-01   315.71        315.71  314.62       NaN\n",
       "1958.292     1958-04-01   317.45        317.45  315.29       NaN\n",
       "1958.375     1958-05-01   317.50        317.50  314.71       NaN\n",
       "1958.458     1958-06-01      NaN        317.10  314.85       NaN\n",
       "1958.542     1958-07-01   315.86        315.86  314.98       NaN"
      ]
     },
     "execution_count": 4,
     "metadata": {},
     "output_type": "execute_result"
    }
   ],
   "source": [
    "raw_data = pd.read_csv('co2_mm_mlo.txt', \n",
    "                       comment='#', \n",
    "                       sep=\"\\s+\", \n",
    "                       header=None, \n",
    "                       index_col=1, \n",
    "                       names=names, \n",
    "                       na_values=[-99.99, -1], \n",
    "                       parse_dates={'date':[0, 1]}\n",
    "                      )\n",
    "raw_data.head()"
   ]
  },
  {
   "cell_type": "code",
   "execution_count": 5,
   "metadata": {},
   "outputs": [],
   "source": [
    "data = raw_data.copy()"
   ]
  },
  {
   "cell_type": "code",
   "execution_count": 6,
   "metadata": {
    "scrolled": true
   },
   "outputs": [],
   "source": [
    "data['decade'] = data.index//10*10"
   ]
  },
  {
   "cell_type": "code",
   "execution_count": 7,
   "metadata": {},
   "outputs": [
    {
     "name": "stdout",
     "output_type": "stream",
     "text": [
      "Writing File for decade 1950.\n",
      "Writing File for decade 1960.\n",
      "Writing File for decade 1970.\n",
      "Writing File for decade 1980.\n",
      "Writing File for decade 1990.\n",
      "Writing File for decade 2000.\n",
      "Writing File for decade 2010.\n",
      "Done.\n"
     ]
    }
   ],
   "source": [
    "for decade in data['decade'].unique():\n",
    "    print(f\"Writing File for decade {int(decade)}.\")\n",
    "    \n",
    "    data.query(\n",
    "        f'decade=={decade}'\n",
    "    )[[\n",
    "        'average'\n",
    "    ]].to_csv(\n",
    "        f'{out_directory}co2_mm_{int(decade)}s.csv'\n",
    "    )\n",
    "\n",
    "print('Done.')"
   ]
  },
  {
   "cell_type": "code",
   "execution_count": null,
   "metadata": {},
   "outputs": [],
   "source": []
  },
  {
   "cell_type": "code",
   "execution_count": null,
   "metadata": {},
   "outputs": [],
   "source": []
  }
 ],
 "metadata": {
  "kernelspec": {
   "display_name": "Python 3",
   "language": "python",
   "name": "python3"
  },
  "language_info": {
   "codemirror_mode": {
    "name": "ipython",
    "version": 3
   },
   "file_extension": ".py",
   "mimetype": "text/x-python",
   "name": "python",
   "nbconvert_exporter": "python",
   "pygments_lexer": "ipython3",
   "version": "3.7.1"
  }
 },
 "nbformat": 4,
 "nbformat_minor": 2
}
