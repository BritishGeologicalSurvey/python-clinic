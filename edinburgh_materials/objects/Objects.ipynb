{
 "cells": [
  {
   "cell_type": "markdown",
   "id": "321ad0c3",
   "metadata": {},
   "source": [
    "# Objects in Python\n",
    "\n",
    "A brief overview of objects, attributes, and classes\n",
    "\n",
    "1. Object oriented programming (vs procedural)\n",
    "2. What is an object? - Everything in Python!\n",
    "3. What defines objects - classes\n"
   ]
  },
  {
   "cell_type": "code",
   "execution_count": 86,
   "id": "ef709ab2",
   "metadata": {},
   "outputs": [
    {
     "name": "stdout",
     "output_type": "stream",
     "text": [
      "name is a:  <class 'str'>\n",
      "age is a: <class 'int'>\n"
     ]
    }
   ],
   "source": [
    "# Objects encapsulate data and functions (\"methods\") associated with that type of data. Consider a string:\n",
    "\n",
    "name = \"Jo\"\n",
    "age = 33\n",
    "\n",
    "print(\"name is a: \", type(name))\n",
    "print(\"age is a:\", type(age))"
   ]
  },
  {
   "cell_type": "markdown",
   "id": "6b9e2385",
   "metadata": {},
   "source": [
    "Sometimes, **object** and **class** are used interchangeably. Technically, the **class** is a template, which defines how the object behaves. Objets are the individual instances. So you can have **many objects** created from the same **class**."
   ]
  },
  {
   "cell_type": "markdown",
   "id": "51e392ed",
   "metadata": {},
   "source": [
    "The `dir()` function tells you all the components of a certain object"
   ]
  },
  {
   "cell_type": "code",
   "execution_count": 87,
   "id": "92571f47",
   "metadata": {},
   "outputs": [
    {
     "data": {
      "text/plain": [
       "['__add__',\n",
       " '__class__',\n",
       " '__contains__',\n",
       " '__delattr__',\n",
       " '__dir__',\n",
       " '__doc__',\n",
       " '__eq__',\n",
       " '__format__',\n",
       " '__ge__',\n",
       " '__getattribute__',\n",
       " '__getitem__',\n",
       " '__getnewargs__',\n",
       " '__getstate__',\n",
       " '__gt__',\n",
       " '__hash__',\n",
       " '__init__',\n",
       " '__init_subclass__',\n",
       " '__iter__',\n",
       " '__le__',\n",
       " '__len__',\n",
       " '__lt__',\n",
       " '__mod__',\n",
       " '__mul__',\n",
       " '__ne__',\n",
       " '__new__',\n",
       " '__reduce__',\n",
       " '__reduce_ex__',\n",
       " '__repr__',\n",
       " '__rmod__',\n",
       " '__rmul__',\n",
       " '__setattr__',\n",
       " '__sizeof__',\n",
       " '__str__',\n",
       " '__subclasshook__',\n",
       " 'capitalize',\n",
       " 'casefold',\n",
       " 'center',\n",
       " 'count',\n",
       " 'encode',\n",
       " 'endswith',\n",
       " 'expandtabs',\n",
       " 'find',\n",
       " 'format',\n",
       " 'format_map',\n",
       " 'index',\n",
       " 'isalnum',\n",
       " 'isalpha',\n",
       " 'isascii',\n",
       " 'isdecimal',\n",
       " 'isdigit',\n",
       " 'isidentifier',\n",
       " 'islower',\n",
       " 'isnumeric',\n",
       " 'isprintable',\n",
       " 'isspace',\n",
       " 'istitle',\n",
       " 'isupper',\n",
       " 'join',\n",
       " 'ljust',\n",
       " 'lower',\n",
       " 'lstrip',\n",
       " 'maketrans',\n",
       " 'partition',\n",
       " 'removeprefix',\n",
       " 'removesuffix',\n",
       " 'replace',\n",
       " 'rfind',\n",
       " 'rindex',\n",
       " 'rjust',\n",
       " 'rpartition',\n",
       " 'rsplit',\n",
       " 'rstrip',\n",
       " 'split',\n",
       " 'splitlines',\n",
       " 'startswith',\n",
       " 'strip',\n",
       " 'swapcase',\n",
       " 'title',\n",
       " 'translate',\n",
       " 'upper',\n",
       " 'zfill']"
      ]
     },
     "execution_count": 87,
     "metadata": {},
     "output_type": "execute_result"
    }
   ],
   "source": [
    "dir(name)"
   ]
  },
  {
   "cell_type": "code",
   "execution_count": 88,
   "id": "a6373765",
   "metadata": {},
   "outputs": [
    {
     "data": {
      "text/plain": [
       "['__abs__',\n",
       " '__add__',\n",
       " '__and__',\n",
       " '__bool__',\n",
       " '__ceil__',\n",
       " '__class__',\n",
       " '__delattr__',\n",
       " '__dir__',\n",
       " '__divmod__',\n",
       " '__doc__',\n",
       " '__eq__',\n",
       " '__float__',\n",
       " '__floor__',\n",
       " '__floordiv__',\n",
       " '__format__',\n",
       " '__ge__',\n",
       " '__getattribute__',\n",
       " '__getnewargs__',\n",
       " '__getstate__',\n",
       " '__gt__',\n",
       " '__hash__',\n",
       " '__index__',\n",
       " '__init__',\n",
       " '__init_subclass__',\n",
       " '__int__',\n",
       " '__invert__',\n",
       " '__le__',\n",
       " '__lshift__',\n",
       " '__lt__',\n",
       " '__mod__',\n",
       " '__mul__',\n",
       " '__ne__',\n",
       " '__neg__',\n",
       " '__new__',\n",
       " '__or__',\n",
       " '__pos__',\n",
       " '__pow__',\n",
       " '__radd__',\n",
       " '__rand__',\n",
       " '__rdivmod__',\n",
       " '__reduce__',\n",
       " '__reduce_ex__',\n",
       " '__repr__',\n",
       " '__rfloordiv__',\n",
       " '__rlshift__',\n",
       " '__rmod__',\n",
       " '__rmul__',\n",
       " '__ror__',\n",
       " '__round__',\n",
       " '__rpow__',\n",
       " '__rrshift__',\n",
       " '__rshift__',\n",
       " '__rsub__',\n",
       " '__rtruediv__',\n",
       " '__rxor__',\n",
       " '__setattr__',\n",
       " '__sizeof__',\n",
       " '__str__',\n",
       " '__sub__',\n",
       " '__subclasshook__',\n",
       " '__truediv__',\n",
       " '__trunc__',\n",
       " '__xor__',\n",
       " 'as_integer_ratio',\n",
       " 'bit_count',\n",
       " 'bit_length',\n",
       " 'conjugate',\n",
       " 'denominator',\n",
       " 'from_bytes',\n",
       " 'imag',\n",
       " 'numerator',\n",
       " 'real',\n",
       " 'to_bytes']"
      ]
     },
     "execution_count": 88,
     "metadata": {},
     "output_type": "execute_result"
    }
   ],
   "source": [
    "dir(age)"
   ]
  },
  {
   "cell_type": "markdown",
   "id": "f735ae1d",
   "metadata": {},
   "source": [
    "We access the components of ab object using the \"dot notation\". This is just a dot after the object name.\n",
    "\n",
    "String objects have some handy built in functions. Can you work out what these do?"
   ]
  },
  {
   "cell_type": "code",
   "execution_count": 91,
   "id": "20be9dd2",
   "metadata": {},
   "outputs": [
    {
     "name": "stdout",
     "output_type": "stream",
     "text": [
      "True\n"
     ]
    }
   ],
   "source": [
    "print(\"JOHN\".isupper())\n",
    "\n"
   ]
  },
  {
   "cell_type": "code",
   "execution_count": 92,
   "id": "fae0ba07",
   "metadata": {},
   "outputs": [
    {
     "data": {
      "text/plain": [
       "False"
      ]
     },
     "execution_count": 92,
     "metadata": {},
     "output_type": "execute_result"
    }
   ],
   "source": [
    "name.islower()"
   ]
  },
  {
   "cell_type": "code",
   "execution_count": 94,
   "id": "03abbef7",
   "metadata": {},
   "outputs": [
    {
     "data": {
      "text/plain": [
       "2"
      ]
     },
     "execution_count": 94,
     "metadata": {},
     "output_type": "execute_result"
    }
   ],
   "source": [
    "\"Foo\".count(\"o\")"
   ]
  },
  {
   "cell_type": "code",
   "execution_count": 95,
   "id": "728f212e",
   "metadata": {},
   "outputs": [
    {
     "data": {
      "text/plain": [
       "True"
      ]
     },
     "execution_count": 95,
     "metadata": {},
     "output_type": "execute_result"
    }
   ],
   "source": [
    "name.startswith(\"J\")"
   ]
  },
  {
   "cell_type": "markdown",
   "id": "822ec85f",
   "metadata": {},
   "source": [
    "What about our integer object? Integers have fewer components"
   ]
  },
  {
   "cell_type": "code",
   "execution_count": 96,
   "id": "f3a29c63",
   "metadata": {},
   "outputs": [
    {
     "data": {
      "text/plain": [
       "2"
      ]
     },
     "execution_count": 96,
     "metadata": {},
     "output_type": "execute_result"
    }
   ],
   "source": [
    "age.bit_count()"
   ]
  },
  {
   "cell_type": "code",
   "execution_count": 97,
   "id": "f6482554",
   "metadata": {},
   "outputs": [
    {
     "data": {
      "text/plain": [
       "33"
      ]
     },
     "execution_count": 97,
     "metadata": {},
     "output_type": "execute_result"
    }
   ],
   "source": [
    "age.real"
   ]
  },
  {
   "cell_type": "code",
   "execution_count": 98,
   "id": "c872c29c",
   "metadata": {},
   "outputs": [
    {
     "data": {
      "text/plain": [
       "0"
      ]
     },
     "execution_count": 98,
     "metadata": {},
     "output_type": "execute_result"
    }
   ],
   "source": [
    "age.imag"
   ]
  },
  {
   "cell_type": "markdown",
   "id": "d06d5d55",
   "metadata": {},
   "source": [
    "Did you notice anything about the last two commands we gave? Why did we not use brackets? `()` after the object name?\n",
    "\n",
    "## Attributes\n",
    "\n",
    "Object **attributes** do not need the brackets. Attributes are usually used to store simple bits of information associated with the object.\n",
    "\n",
    "## Functions (or methods)\n",
    "\n",
    "Object **functions** (methods) require the brackets to be added. This is because we are calling a function to calculate or do some operation on the object, rather than just acccessing a piece of information about it, a with attributes.\n",
    "\n",
    "What happens if we forget to add the brackets on a function call?"
   ]
  },
  {
   "cell_type": "code",
   "execution_count": 99,
   "id": "356b8199",
   "metadata": {},
   "outputs": [
    {
     "data": {
      "text/plain": [
       "<function str.startswith>"
      ]
     },
     "execution_count": 99,
     "metadata": {},
     "output_type": "execute_result"
    }
   ],
   "source": [
    "name.startswith"
   ]
  },
  {
   "cell_type": "markdown",
   "id": "afe768a0",
   "metadata": {},
   "source": [
    "Python simply tells us that this is a function. A reminder that perhaps we meant to issue a function *call*.\n"
   ]
  },
  {
   "cell_type": "code",
   "execution_count": 100,
   "id": "795d2122",
   "metadata": {},
   "outputs": [
    {
     "data": {
      "text/plain": [
       "True"
      ]
     },
     "execution_count": 100,
     "metadata": {},
     "output_type": "execute_result"
    }
   ],
   "source": [
    "name.startswith(\"J\")"
   ]
  },
  {
   "cell_type": "markdown",
   "id": "d5058398",
   "metadata": {},
   "source": [
    "Some functions take no arguments, but still require the brackets, e.g."
   ]
  },
  {
   "cell_type": "code",
   "execution_count": 101,
   "id": "1f040d3a",
   "metadata": {},
   "outputs": [
    {
     "data": {
      "text/plain": [
       "<function str.isupper()>"
      ]
     },
     "execution_count": 101,
     "metadata": {},
     "output_type": "execute_result"
    }
   ],
   "source": [
    "name.isupper  # Needs brackets!"
   ]
  },
  {
   "cell_type": "code",
   "execution_count": 102,
   "id": "05542a99",
   "metadata": {},
   "outputs": [
    {
     "data": {
      "text/plain": [
       "False"
      ]
     },
     "execution_count": 102,
     "metadata": {},
     "output_type": "execute_result"
    }
   ],
   "source": [
    "name.isupper()    # No arguments needed, but still a funciton call. "
   ]
  },
  {
   "cell_type": "markdown",
   "id": "91106ca0",
   "metadata": {},
   "source": [
    "# Defining our own objects\n",
    "\n",
    "This is the power of **Object oriented programming**. In addition to the built in objects provided by Python, we can create our own objects for our own use cases. These objects can then have their own functions and attributes. "
   ]
  },
  {
   "cell_type": "code",
   "execution_count": 50,
   "id": "e60c7123",
   "metadata": {},
   "outputs": [],
   "source": [
    "class Borehole:\n",
    "    pass\n",
    "    # This class does nothing!"
   ]
  },
  {
   "cell_type": "markdown",
   "id": "9874d11e",
   "metadata": {},
   "source": [
    "Let's add some attributes and a function to our class definition:"
   ]
  },
  {
   "cell_type": "code",
   "execution_count": 103,
   "id": "bae33005",
   "metadata": {},
   "outputs": [],
   "source": [
    "import math\n",
    "\n",
    "class Borehole:\n",
    "    \n",
    "    nation = \"Scotland\"\n",
    "    \n",
    "    def __init__(self, depth, radius, geology):\n",
    "        self.depth = depth\n",
    "        self.radius = radius\n",
    "        self.geology = geology\n",
    "    \n",
    "    def calculate_volume(self):\n",
    "        volume = math.pi * self.radius**2 * self.depth\n",
    "        return volume"
   ]
  },
  {
   "cell_type": "markdown",
   "id": "4333cbfb",
   "metadata": {},
   "source": [
    "Let's look at how the class works to define our objects:\n",
    "\n",
    "The `__init__` is a special function in Python. It tells us how our object should be created, i.e. what pieces of information it should store. Here, we give it three attributes. `depth, radius, geology`.\n",
    "\n",
    "What about **self**? This is another special variable in Python. It refers to the object itself when it is being used. For now, it's enough to remember that when writing classes for your own objects, you need to pass **self** as an argument to all the functions you create. (There are exceptions and further details to this but that is beyond the scope here).\n",
    "\n",
    "For example, our `calculate_volume()` function takes `self` as an argument. Note that we do not need to pass in the depth and radius, because we have already defined these as attributes of the object. We can access them in internal functions as `self.radius` etc."
   ]
  },
  {
   "cell_type": "code",
   "execution_count": 105,
   "id": "48629581",
   "metadata": {},
   "outputs": [
    {
     "data": {
      "text/plain": [
       "__main__.Borehole"
      ]
     },
     "execution_count": 105,
     "metadata": {},
     "output_type": "execute_result"
    }
   ],
   "source": [
    "riccarton_borehole = Borehole(50.0, 0.15, \"Trachyite\")\n",
    "type(riccarton_borehole)"
   ]
  },
  {
   "cell_type": "code",
   "execution_count": 106,
   "id": "85ce48d8",
   "metadata": {},
   "outputs": [
    {
     "data": {
      "text/plain": [
       "'Scotland'"
      ]
     },
     "execution_count": 106,
     "metadata": {},
     "output_type": "execute_result"
    }
   ],
   "source": [
    "riccarton_borehole.nation"
   ]
  },
  {
   "cell_type": "code",
   "execution_count": 107,
   "id": "c9f1a406",
   "metadata": {},
   "outputs": [
    {
     "data": {
      "text/plain": [
       "'Trachyite'"
      ]
     },
     "execution_count": 107,
     "metadata": {},
     "output_type": "execute_result"
    }
   ],
   "source": [
    "riccarton_borehole.geology"
   ]
  },
  {
   "cell_type": "code",
   "execution_count": 108,
   "id": "48569721",
   "metadata": {},
   "outputs": [
    {
     "data": {
      "text/plain": [
       "0.15"
      ]
     },
     "execution_count": 108,
     "metadata": {},
     "output_type": "execute_result"
    }
   ],
   "source": [
    "riccarton_borehole.radius"
   ]
  },
  {
   "cell_type": "code",
   "execution_count": 109,
   "id": "91c26120",
   "metadata": {},
   "outputs": [
    {
     "data": {
      "text/plain": [
       "3.5342917352885173"
      ]
     },
     "execution_count": 109,
     "metadata": {},
     "output_type": "execute_result"
    }
   ],
   "source": [
    "riccarton_borehole.calculate_volume()"
   ]
  },
  {
   "cell_type": "markdown",
   "id": "6ceaedb5",
   "metadata": {},
   "source": [
    "See how we can reuse our class definition now to make lots of boreholes, each storing their relevant attributes and reusing the same function definitions, without having to pass arguments and data around?\n",
    "\n"
   ]
  },
  {
   "cell_type": "code",
   "execution_count": 110,
   "id": "e2997965",
   "metadata": {},
   "outputs": [],
   "source": [
    "currie_borehole = Borehole(25.0, 0.30, \"Old Red Sandstone\")\n",
    "balerno_borehole = Borehole(30.0, 0.20, \"Old Red Sandstone\")"
   ]
  },
  {
   "cell_type": "code",
   "execution_count": 111,
   "id": "337ccec7",
   "metadata": {},
   "outputs": [
    {
     "name": "stdout",
     "output_type": "stream",
     "text": [
      "The Currie borehole is:  7.0685834705770345 m^3\n",
      "The Balerno borehole is:  3.769911184307752 m^3\n"
     ]
    }
   ],
   "source": [
    "print(\"The Currie borehole is: \", currie_borehole.calculate_volume(), \"m^3\")\n",
    "print(\"The Balerno borehole is: \", balerno_borehole.calculate_volume(), \"m^3\")"
   ]
  },
  {
   "cell_type": "markdown",
   "id": "81834e6d",
   "metadata": {},
   "source": [
    "What about our `nation` attribute? This is called a class-level attribute. It is set within the class definition instead of the `__init__()` function. If you change the value of a class level attribute - it changes all the subsequent objects created from that class."
   ]
  },
  {
   "cell_type": "code",
   "execution_count": null,
   "id": "9ecad5a2",
   "metadata": {},
   "outputs": [],
   "source": []
  },
  {
   "cell_type": "markdown",
   "id": "dbf8d6df",
   "metadata": {},
   "source": [
    "A more useful class-level attribute might be a counter for the number of Boreholes. For example:"
   ]
  },
  {
   "cell_type": "code",
   "execution_count": 112,
   "id": "ddc68611",
   "metadata": {},
   "outputs": [],
   "source": [
    "import math\n",
    "\n",
    "class Borehole:\n",
    "    \n",
    "    num_boreholes_total = 0\n",
    "    nation = \"Scotland\"\n",
    "    \n",
    "    def __init__(self, depth, radius, geology):\n",
    "        self.depth = depth\n",
    "        self.radius = radius\n",
    "        self.geology = geology\n",
    "        Borehole.num_boreholes_total += 1    # Increment the counter each time.\n",
    "    \n",
    "    def calculate_volume(self):\n",
    "        volume = math.pi * self.radius**2 * self.depth\n",
    "        return volume"
   ]
  },
  {
   "cell_type": "markdown",
   "id": "25a4fdfc",
   "metadata": {},
   "source": [
    "now see what we can do:  (assume we are starting again)\n",
    "    \n",
    "    "
   ]
  },
  {
   "cell_type": "code",
   "execution_count": 113,
   "id": "e405ab16",
   "metadata": {},
   "outputs": [],
   "source": [
    "currie_borehole = Borehole(25.0, 0.30, \"Old Red Sandstone\")\n",
    "balerno_borehole = Borehole(30.0, 0.20, \"Old Red Sandstone\")"
   ]
  },
  {
   "cell_type": "code",
   "execution_count": 114,
   "id": "77c39283",
   "metadata": {},
   "outputs": [
    {
     "data": {
      "text/plain": [
       "2"
      ]
     },
     "execution_count": 114,
     "metadata": {},
     "output_type": "execute_result"
    }
   ],
   "source": [
    "Borehole.num_boreholes_total"
   ]
  },
  {
   "cell_type": "code",
   "execution_count": 115,
   "id": "d712507d",
   "metadata": {},
   "outputs": [],
   "source": [
    "riccarton_borehole = Borehole(50.0, 0.15, \"Trachyite\")"
   ]
  },
  {
   "cell_type": "code",
   "execution_count": 116,
   "id": "dc2bfccf",
   "metadata": {},
   "outputs": [
    {
     "data": {
      "text/plain": [
       "3"
      ]
     },
     "execution_count": 116,
     "metadata": {},
     "output_type": "execute_result"
    }
   ],
   "source": [
    "Borehole.num_boreholes_total"
   ]
  },
  {
   "cell_type": "markdown",
   "id": "187647f3",
   "metadata": {},
   "source": [
    "There's a good summary of the benefits of Object oriented programming, writing your own classes etc. on the RealPython website\n",
    "\n",
    "https://realpython.com/python-classes/#understanding-the-benefits-of-using-classes-in-python\n",
    "\n"
   ]
  },
  {
   "cell_type": "code",
   "execution_count": null,
   "id": "36406773",
   "metadata": {},
   "outputs": [],
   "source": []
  }
 ],
 "metadata": {
  "kernelspec": {
   "display_name": "Python 3 (ipykernel)",
   "language": "python",
   "name": "python3"
  },
  "language_info": {
   "codemirror_mode": {
    "name": "ipython",
    "version": 3
   },
   "file_extension": ".py",
   "mimetype": "text/x-python",
   "name": "python",
   "nbconvert_exporter": "python",
   "pygments_lexer": "ipython3",
   "version": "3.11.0"
  }
 },
 "nbformat": 4,
 "nbformat_minor": 5
}
